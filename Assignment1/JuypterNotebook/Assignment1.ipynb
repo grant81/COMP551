{
 "cells": [
  {
   "cell_type": "markdown",
   "metadata": {},
   "source": [
    "Assignment 1 Yingnan Zhao id: 260563769\n",
    "\n",
    "Question 1"
   ]
  },
  {
   "cell_type": "markdown",
   "metadata": {},
   "source": [
    "Note: there are some functions in different questions that have the same name, randomly run a single cell might cause error"
   ]
  },
  {
   "cell_type": "markdown",
   "metadata": {},
   "source": [
    "1.1"
   ]
  },
  {
   "cell_type": "code",
   "execution_count": 1,
   "metadata": {
    "collapsed": true
   },
   "outputs": [],
   "source": [
    "import numpy as np\n",
    "import matplotlib.pyplot as plt\n",
    "import math\n",
    "import csv"
   ]
  },
  {
   "cell_type": "markdown",
   "metadata": {},
   "source": [
    "the function below generates the W matrix with out any regulations\n",
    "using the formula \n",
    "W = (X^tX)X^tY"
   ]
  },
  {
   "cell_type": "code",
   "execution_count": 2,
   "metadata": {
    "collapsed": true
   },
   "outputs": [],
   "source": [
    "m = 20\n",
    "def getW(transetPath):  # 'Datasets\\\\Dataset_1_train.csv'\n",
    "    with open(transetPath) as trainData1:\n",
    "        readCSV = csv.reader(trainData1, delimiter=',')\n",
    "        inputVarTemp = []\n",
    "        targetVarTemp = []\n",
    "        inputVar = []\n",
    "        targetVar = []\n",
    "        one = []\n",
    "        for row in readCSV:\n",
    "            inputVarTemp.append(float(row[0]))\n",
    "            targetVarTemp.append(float(row[1]))\n",
    "        for i in range(len(inputVarTemp)):\n",
    "            one.append(1.0)\n",
    "    for j in range(m, 0, -1):\n",
    "        currentInput = np.power(inputVarTemp, j)\n",
    "        inputVar.append(currentInput)\n",
    "\n",
    "    inputVar.append(one)\n",
    "    targetVar.append(targetVarTemp)\n",
    "    inputVar = np.transpose(np.array(inputVar, dtype='float'))\n",
    "    targetVar = np.transpose(np.array(targetVar, dtype='float'))\n",
    "    step1 = np.dot(np.transpose(inputVar), inputVar)  # xtx\n",
    "    step2 = np.dot(np.transpose(inputVar), targetVar)  # xty\n",
    "    w = np.dot(np.linalg.inv(step1), step2)\n",
    "    return w"
   ]
  },
  {
   "cell_type": "markdown",
   "metadata": {},
   "source": [
    "the function below calculates the MSE of a given set of data and w matrix"
   ]
  },
  {
   "cell_type": "code",
   "execution_count": 3,
   "metadata": {
    "collapsed": true
   },
   "outputs": [],
   "source": [
    "def calMSE(testDataPath, w):\n",
    "    with open(testDataPath) as trainData1:\n",
    "        readCSV = csv.reader(trainData1, delimiter=',')\n",
    "        inputVarTemp = []\n",
    "        targetVarTemp = []\n",
    "        inputVar = []\n",
    "        targetVar = []\n",
    "        one = []\n",
    "        for row in readCSV:\n",
    "            inputVarTemp.append(float(row[0]))\n",
    "            targetVarTemp.append(float(row[1]))\n",
    "        for i in range(len(inputVarTemp)):\n",
    "            one.append(1.0)\n",
    "    for j in range(m, 0, -1):\n",
    "        currentInput = np.power(inputVarTemp, j)\n",
    "        inputVar.append(currentInput)\n",
    "\n",
    "    inputVar.append(one)\n",
    "    targetVar.append(targetVarTemp)\n",
    "    inputVar = np.transpose(np.array(inputVar, dtype='float'))\n",
    "    targetVar = np.transpose(np.array(targetVar, dtype='float'))\n",
    "\n",
    "    YsXw = np.subtract(targetVar, np.dot(inputVar, w))\n",
    "    Error = np.square(YsXw).mean()\n",
    "    return Error"
   ]
  },
  {
   "cell_type": "markdown",
   "metadata": {},
   "source": [
    "calculating training MSE and Validation MSE"
   ]
  },
  {
   "cell_type": "code",
   "execution_count": 4,
   "metadata": {},
   "outputs": [
    {
     "name": "stdout",
     "output_type": "stream",
     "text": [
      "training set MSE = 6.47477662124\n",
      "validation set MSE = 1418.56775118\n"
     ]
    }
   ],
   "source": [
    "w = getW('..\\\\Datasets\\\\Dataset_1_train.csv')\n",
    "print('training set MSE = '+str(calMSE('..\\\\Datasets\\\\Dataset_1_train.csv',w)))\n",
    "print('validation set MSE = '+str(calMSE('..\\\\Datasets\\\\Dataset_1_valid.csv',w)))"
   ]
  },
  {
   "cell_type": "markdown",
   "metadata": {},
   "source": [
    "appearently the MSE Error for the validation set is not very good, we will inspect further when we visualize the fit\n",
    "\n",
    "these two function below will plot curve with the input data, the second one takes in the path of the data set and w, the first one is used to calculate the individual points"
   ]
  },
  {
   "cell_type": "code",
   "execution_count": 5,
   "metadata": {
    "collapsed": true
   },
   "outputs": [],
   "source": [
    "def calTarget(x, w):\n",
    "    y = 0.0\n",
    "    for i in range(m, -1, -1):\n",
    "        y = y + math.pow(x, i) * w[m - i][0]\n",
    "    return y\n",
    "\n",
    "\n",
    "def produceResultPoint(testDataPath, w):\n",
    "    with open(testDataPath) as trainData1:\n",
    "        readCSV = csv.reader(trainData1, delimiter=',')\n",
    "        inputVar = []\n",
    "        targetVar = []\n",
    "        result = []\n",
    "\n",
    "        for row in readCSV:\n",
    "            inputVar.append(float(row[0]))\n",
    "            targetVar.append(float(row[1]))\n",
    "\n",
    "        for i in range(len(inputVar)):\n",
    "            result.append(calTarget(inputVar[i], w))\n",
    "\n",
    "    plt.plot(sorted(inputVar), sorted(result), 'b')\n",
    "    plt.plot(inputVar, targetVar, 'ro')\n",
    "    plt.title('Visualization')\n",
    "    plt.xlabel('X')\n",
    "    plt.ylabel('Y')\n",
    "    plt.show()"
   ]
  },
  {
   "cell_type": "markdown",
   "metadata": {},
   "source": [
    "visualize the fit of the training dataset"
   ]
  },
  {
   "cell_type": "code",
   "execution_count": 6,
   "metadata": {
    "collapsed": true
   },
   "outputs": [],
   "source": [
    "%matplotlib inline"
   ]
  },
  {
   "cell_type": "code",
   "execution_count": 7,
   "metadata": {},
   "outputs": [
    {
     "data": {
      "image/png": "[encoded data removed]",
      "text/plain": [
       "<matplotlib.figure.Figure at 0x23e091326d8>"
      ]
     },
     "metadata": {},
     "output_type": "display_data"
    }
   ],
   "source": [
    "w = getW('..\\\\Datasets\\\\Dataset_1_train.csv')\n",
    "produceResultPoint('..\\\\Datasets\\\\Dataset_1_train.csv', w)"
   ]
  },
  {
   "cell_type": "markdown",
   "metadata": {},
   "source": [
    "As shown above the mode fits reasonably well when visualizing the fit for the training data set"
   ]
  },
  {
   "cell_type": "markdown",
   "metadata": {},
   "source": [
    "visualize the fit of the validation dataset"
   ]
  },
  {
   "cell_type": "code",
   "execution_count": 8,
   "metadata": {},
   "outputs": [
    {
     "data": {
      "image/png": "[encoded data removed]",
      "text/plain": [
       "<matplotlib.figure.Figure at 0x23e0914f208>"
      ]
     },
     "metadata": {},
     "output_type": "display_data"
    }
   ],
   "source": [
    "w = getW('..\\\\Datasets\\\\Dataset_1_train.csv')\n",
    "produceResultPoint('..\\\\Datasets\\\\Dataset_1_valid.csv', w)"
   ]
  },
  {
   "cell_type": "markdown",
   "metadata": {},
   "source": [
    "visualize the fit of the test set"
   ]
  },
  {
   "cell_type": "code",
   "execution_count": 9,
   "metadata": {},
   "outputs": [
    {
     "data": {
      "image/png": "[encoded data removed]",
      "text/plain": [
       "<matplotlib.figure.Figure at 0x23e093ee9e8>"
      ]
     },
     "metadata": {},
     "output_type": "display_data"
    }
   ],
   "source": [
    "w = getW('..\\\\Datasets\\\\Dataset_1_train.csv')\n",
    "produceResultPoint('..\\\\Datasets\\\\Dataset_1_test.csv', w)"
   ]
  },
  {
   "cell_type": "markdown",
   "metadata": {},
   "source": [
    "For the validatio set, as shown above the all the point except for the first one fits ok, the unregulated linear regression cannot handle the x input x = 0.996344491497"
   ]
  },
  {
   "cell_type": "markdown",
   "metadata": {
    "collapsed": true
   },
   "source": [
    "1.2 L2 regulation\n",
    "\n",
    "the function below produces the w matrix with the input value λ. using the equation w=(x^T x+ λI)^(-1) x^T y"
   ]
  },
  {
   "cell_type": "code",
   "execution_count": 10,
   "metadata": {
    "collapsed": true
   },
   "outputs": [],
   "source": [
    "def getWstar(trainSetPath, lamda):\n",
    "    with open(trainSetPath) as trainData1:\n",
    "        readCSV = csv.reader(trainData1, delimiter=',')\n",
    "        inputVarTemp = []\n",
    "        targetVarTemp = []\n",
    "        inputVar = []\n",
    "        targetVar = []\n",
    "        one = []\n",
    "        for row in readCSV:\n",
    "            inputVarTemp.append(float(row[0]))\n",
    "            targetVarTemp.append(float(row[1]))\n",
    "        for i in range(len(inputVarTemp)):\n",
    "            one.append(1.0)\n",
    "    for j in range(m, 0, -1):\n",
    "        currentInput = np.power(inputVarTemp, j)\n",
    "        inputVar.append(currentInput)\n",
    "\n",
    "    inputVar.append(one)\n",
    "    targetVar.append(targetVarTemp)\n",
    "    inputVar = np.transpose(np.array(inputVar, dtype='float'))\n",
    "    targetVar = np.transpose(np.array(targetVar, dtype='float'))\n",
    "    step1 = np.dot(np.transpose(inputVar), inputVar)\n",
    "    step2 = np.add(step1, lamda * np.identity(step1.shape[0]))\n",
    "    step3 = np.linalg.inv(step2)\n",
    "    step4 = np.dot(np.transpose(inputVar), targetVar)\n",
    "    w = np.dot(step3, step4)\n",
    "    return w"
   ]
  },
  {
   "cell_type": "markdown",
   "metadata": {
    "collapsed": true
   },
   "source": [
    "the function below will try different lamda values in an increment order, and it will plot the MSE error againist the lamda value for the training set and the validation set, finally it will print out the lamda that has the lowest MSE on the validation dataset."
   ]
  },
  {
   "cell_type": "code",
   "execution_count": 11,
   "metadata": {
    "collapsed": true
   },
   "outputs": [],
   "source": [
    "def findLamda():\n",
    "    lamda = 0.0\n",
    "    MSESet = []\n",
    "    MSESet2 = []\n",
    "    wSet = []\n",
    "    lamdas = []\n",
    "    while (lamda <= 1):\n",
    "        w = getWstar('..\\\\Datasets\\\\Dataset_1_train.csv', lamda)\n",
    "        wSet.append(w)\n",
    "        # temp = []\n",
    "        lamdas.append(lamda)\n",
    "        MSESet.append(calMSE('..\\\\Datasets\\\\Dataset_1_valid.csv', w))\n",
    "        # MSESet.append(temp)\n",
    "        lamda += 0.005\n",
    "    lamda = 0.0\n",
    "    while (lamda <= 1):\n",
    "        w = getWstar('..\\\\Datasets\\\\Dataset_1_train.csv', lamda)\n",
    "        # temp = []\n",
    "        # temp.append(lamda)\n",
    "        MSESet2.append(calMSE('..\\\\Datasets\\\\Dataset_1_train.csv', w))\n",
    "        # MSESet2.append(temp)\n",
    "        lamda += 0.005\n",
    "    plt.plot(lamdas,MSESet, 'r-')\n",
    "    plt.plot(lamdas,MSESet2, 'b-')\n",
    "    plt.axis([0, 1, 5, 10])\n",
    "    plt.title('MSE vs Lamda')\n",
    "    plt.xlabel('Lamda')\n",
    "    plt.ylabel('MSE')\n",
    "    plt.show()\n",
    "    minErr = 0.0\n",
    "    minLamda = 0.0\n",
    "    minW = []\n",
    "    for i in range(len(MSESet)):\n",
    "        if (minErr == 0.0):\n",
    "            minErr = MSESet[i]\n",
    "            minLamda = lamdas[i]\n",
    "            minW = wSet[i]\n",
    "        elif (minErr > MSESet[i]):\n",
    "            minErr = MSESet[i]\n",
    "            minLamda = lamdas[i]\n",
    "            minW = wSet[i]\n",
    "    print('the lamda that has minimum error = '+str(minLamda)\n",
    "          +', where the MSE for the validation set is '+ str(minErr))"
   ]
  },
  {
   "cell_type": "markdown",
   "metadata": {},
   "source": [
    "plot the training MSE and Validation MSE againist lamda"
   ]
  },
  {
   "cell_type": "code",
   "execution_count": 12,
   "metadata": {},
   "outputs": [
    {
     "data": {
      "image/png": "[encoded data removed]",
      "text/plain": [
       "<matplotlib.figure.Figure at 0x23e0943a550>"
      ]
     },
     "metadata": {},
     "output_type": "display_data"
    },
    {
     "name": "stdout",
     "output_type": "stream",
     "text": [
      "the lamda that has minimum error = 0.02, where the MSE for the validation set is 9.13509878469\n"
     ]
    }
   ],
   "source": [
    "findLamda()"
   ]
  },
  {
   "cell_type": "markdown",
   "metadata": {},
   "source": [
    "the red line is the validation MSE plot and the blue line is the training MSE plot "
   ]
  },
  {
   "cell_type": "markdown",
   "metadata": {},
   "source": [
    "now we have the optimum lambda = 0.02, then we will use this value to visualize the fit "
   ]
  },
  {
   "cell_type": "markdown",
   "metadata": {},
   "source": [
    "first on the training set"
   ]
  },
  {
   "cell_type": "code",
   "execution_count": 13,
   "metadata": {},
   "outputs": [
    {
     "data": {
      "image/png": "[encoded data removed]",
      "text/plain": [
       "<matplotlib.figure.Figure at 0x23e08ea91d0>"
      ]
     },
     "metadata": {},
     "output_type": "display_data"
    }
   ],
   "source": [
    "w = getWstar('..\\\\Datasets\\\\Dataset_1_train.csv', 0.02)\n",
    "produceResultPoint('..\\\\Datasets\\\\Dataset_1_train.csv', w)"
   ]
  },
  {
   "cell_type": "markdown",
   "metadata": {},
   "source": [
    "then on the validation set"
   ]
  },
  {
   "cell_type": "code",
   "execution_count": 14,
   "metadata": {},
   "outputs": [
    {
     "data": {
      "image/png": "[encoded data removed]",
      "text/plain": [
       "<matplotlib.figure.Figure at 0x23e091322e8>"
      ]
     },
     "metadata": {},
     "output_type": "display_data"
    }
   ],
   "source": [
    "w = getWstar('..\\\\Datasets\\\\Dataset_1_train.csv', 0.02)\n",
    "produceResultPoint('..\\\\Datasets\\\\Dataset_1_valid.csv', w)"
   ]
  },
  {
   "cell_type": "markdown",
   "metadata": {},
   "source": [
    "finally on the test set"
   ]
  },
  {
   "cell_type": "code",
   "execution_count": 15,
   "metadata": {},
   "outputs": [
    {
     "data": {
      "image/png": "[encoded data removed]",
      "text/plain": [
       "<matplotlib.figure.Figure at 0x23e096fcbe0>"
      ]
     },
     "metadata": {},
     "output_type": "display_data"
    }
   ],
   "source": [
    "w = getWstar('..\\\\Datasets\\\\Dataset_1_train.csv', 0.02)\n",
    "produceResultPoint('..\\\\Datasets\\\\Dataset_1_test.csv', w)"
   ]
  },
  {
   "cell_type": "markdown",
   "metadata": {},
   "source": [
    "after adding the L2 regulation, the quality of the fit for the validation set and test set has been greatly improved compare to the nonregulated model"
   ]
  },
  {
   "cell_type": "markdown",
   "metadata": {},
   "source": [
    "1.3"
   ]
  },
  {
   "cell_type": "markdown",
   "metadata": {},
   "source": [
    "the source does not have a large degree of polynomial, from the visualization shown above, the source looks like a exponential curve"
   ]
  },
  {
   "cell_type": "markdown",
   "metadata": {},
   "source": [
    "Question 2"
   ]
  },
  {
   "cell_type": "markdown",
   "metadata": {},
   "source": [
    "2.1"
   ]
  },
  {
   "cell_type": "markdown",
   "metadata": {},
   "source": [
    "Applying the gradient decent method to our data, using the equation y = w0 + w1x"
   ]
  },
  {
   "cell_type": "markdown",
   "metadata": {},
   "source": [
    "the function below will produce the w matrix using the gradient decent method with a step size of 1e-6 and run a given number of steps, finally produce the plots for the training set and validation set MSE respectively"
   ]
  },
  {
   "cell_type": "code",
   "execution_count": 16,
   "metadata": {
    "collapsed": true
   },
   "outputs": [],
   "source": [
    "stepSize = 1e-6\n",
    "def getWByGD(trainPath,stepSize,numStep):#'Datasets\\\\Dataset_2_train.csv'\n",
    "    with open(trainPath) as trainData:\n",
    "        readCSV = csv.reader(trainData, delimiter=',')\n",
    "        xTemp = []\n",
    "        x = []\n",
    "        y = []\n",
    "        one = []\n",
    "\n",
    "        for row in readCSV:\n",
    "            xTemp.append(float(row[0]))\n",
    "            y.append(float(row[1]))\n",
    "        for i in range(len(xTemp)):\n",
    "            one.append(1.0)\n",
    "\n",
    "\n",
    "        x.append(xTemp)\n",
    "        x.append(one)\n",
    "        y = np.transpose(np.array(y, dtype='float'))\n",
    "        x = np.transpose(np.array(x,dtype='float'))\n",
    "\n",
    "    w= np.array([1.0,1.0],dtype='float')\n",
    "    MSEListValid = []\n",
    "    MSEListTrain = []\n",
    "    with open('..\\\\Datasets\\\\Dataset_2_valid.csv') as validData:\n",
    "        readCSV = csv.reader(validData, delimiter=',')\n",
    "        xTemp = []\n",
    "        one =[]\n",
    "        x1 = []\n",
    "        y1 = []\n",
    "\n",
    "        for row in readCSV:\n",
    "            xTemp.append(float(row[0]))\n",
    "            y1.append(float(row[1]))\n",
    "\n",
    "        for i in range(len(xTemp)):\n",
    "            one.append(1.0)\n",
    "\n",
    "        x1.append(xTemp)\n",
    "        x1.append(one)\n",
    "        y1 = np.transpose(np.array(y1, dtype='float'))\n",
    "        x1 = np.transpose(np.array(x1,dtype='float'))\n",
    "\n",
    "    for i in range (numStep):\n",
    "        for j in range (x.shape[0]):\n",
    "            w[1] = w[1] - stepSize*(w[1]+w[0]*x[j][0] - y[j])\n",
    "            w[0] = w[0] - stepSize * (w[1] + w[0] * x[j][0] - y[j])*x[j][0]\n",
    "\n",
    "        MSEListValid.append(calMSE(x1,y1,w))\n",
    "        MSEListTrain.append(calMSE(x,y,w))\n",
    " \n",
    "    plt.plot(MSEListValid,'r')\n",
    "    plt.plot(MSEListTrain,'b')\n",
    "    plt.axis([0,numStep,0,30])\n",
    "    plt.title('MSE vs Step number')\n",
    "    plt.xlabel('Step Number')\n",
    "    plt.ylabel('MSE')\n",
    "    plt.show()\n",
    "\n",
    "    return w"
   ]
  },
  {
   "cell_type": "markdown",
   "metadata": {},
   "source": [
    "the function below calculates the MSE"
   ]
  },
  {
   "cell_type": "code",
   "execution_count": 17,
   "metadata": {
    "collapsed": true
   },
   "outputs": [],
   "source": [
    "def calMSE (x,y,w):\n",
    "    YsXw = np.subtract(np.dot(x,w),y)\n",
    "    Error = np.square(YsXw).mean()\n",
    "    return Error"
   ]
  },
  {
   "cell_type": "markdown",
   "metadata": {},
   "source": [
    "here we produce the learning curve (MSE vs step plot for both training set and validation set) for w in 15000 steps(1e-6 each step)"
   ]
  },
  {
   "cell_type": "code",
   "execution_count": 18,
   "metadata": {},
   "outputs": [
    {
     "data": {
      "image/png": "[encoded data removed]",
      "text/plain": [
       "<matplotlib.figure.Figure at 0x23e0a6368d0>"
      ]
     },
     "metadata": {},
     "output_type": "display_data"
    }
   ],
   "source": [
    "w = getWByGD('..\\\\Datasets\\\\Dataset_2_train.csv',stepSize,15000)"
   ]
  },
  {
   "cell_type": "markdown",
   "metadata": {},
   "source": [
    "the MSE is droping dramatically as the step number increases"
   ]
  },
  {
   "cell_type": "markdown",
   "metadata": {},
   "source": [
    "2.2"
   ]
  },
  {
   "cell_type": "markdown",
   "metadata": {},
   "source": [
    "here we will try different step size to find the optimal one, try to find the one with the quickest drop"
   ]
  },
  {
   "cell_type": "code",
   "execution_count": 23,
   "metadata": {
    "scrolled": true
   },
   "outputs": [
    {
     "name": "stdout",
     "output_type": "stream",
     "text": [
      "Step Size = 4.9999999999999996e-06\n"
     ]
    },
    {
     "data": {
      "image/png": "[encoded data removed]",
      "text/plain": [
       "<matplotlib.figure.Figure at 0x23e0b7f08d0>"
      ]
     },
     "metadata": {},
     "output_type": "display_data"
    },
    {
     "name": "stdout",
     "output_type": "stream",
     "text": [
      "Step Size = 2.4999999999999998e-05\n"
     ]
    },
    {
     "data": {
      "image/png": "[encoded data removed]",
      "text/plain": [
       "<matplotlib.figure.Figure at 0x23e0b7f0c18>"
      ]
     },
     "metadata": {},
     "output_type": "display_data"
    },
    {
     "name": "stdout",
     "output_type": "stream",
     "text": [
      "Step Size = 0.000125\n"
     ]
    },
    {
     "data": {
      "image/png": "[encoded data removed]",
      "text/plain": [
       "<matplotlib.figure.Figure at 0x23e0b8195c0>"
      ]
     },
     "metadata": {},
     "output_type": "display_data"
    },
    {
     "name": "stdout",
     "output_type": "stream",
     "text": [
      "Step Size = 0.000625\n"
     ]
    },
    {
     "data": {
      "image/png": "[encoded data removed]",
      "text/plain": [
       "<matplotlib.figure.Figure at 0x23e0b819908>"
      ]
     },
     "metadata": {},
     "output_type": "display_data"
    },
    {
     "name": "stdout",
     "output_type": "stream",
     "text": [
      "Step Size = 0.0031249999999999997\n"
     ]
    },
    {
     "data": {
      "image/png": "[encoded data removed]",
      "text/plain": [
       "<matplotlib.figure.Figure at 0x23e0b748128>"
      ]
     },
     "metadata": {},
     "output_type": "display_data"
    }
   ],
   "source": [
    "for i in range(1,6):\n",
    "    stepSize = 1e-6\n",
    "    stepSize = stepSize*5**i\n",
    "    print('Step Size = '+str(stepSize))\n",
    "    w = getWByGD('..\\\\Datasets\\\\Dataset_2_train.csv',stepSize,8000)\n",
    "\n"
   ]
  },
  {
   "cell_type": "markdown",
   "metadata": {},
   "source": [
    "it seems like the largest step we can take without error is 0.000125 where we can make the function converge in around 100 steps"
   ]
  },
  {
   "cell_type": "markdown",
   "metadata": {},
   "source": [
    "2.3"
   ]
  },
  {
   "cell_type": "markdown",
   "metadata": {},
   "source": [
    "the function below will produce the W matrix of given train set step size and step number"
   ]
  },
  {
   "cell_type": "code",
   "execution_count": 24,
   "metadata": {
    "collapsed": true
   },
   "outputs": [],
   "source": [
    "def getWByGDNoGraph(trainPath,stepSize,numStep):#'Datasets\\\\Dataset_2_train.csv'\n",
    "    with open(trainPath) as trainData:\n",
    "        readCSV = csv.reader(trainData, delimiter=',')\n",
    "        xTemp = []\n",
    "        x = []\n",
    "        y = []\n",
    "        one = []\n",
    "\n",
    "        for row in readCSV:\n",
    "            xTemp.append(float(row[0]))\n",
    "            y.append(float(row[1]))\n",
    "        for i in range(len(xTemp)):\n",
    "            one.append(1.0)\n",
    "\n",
    "\n",
    "        x.append(xTemp)\n",
    "        x.append(one)\n",
    "        y = np.transpose(np.array(y, dtype='float'))\n",
    "        x = np.transpose(np.array(x,dtype='float'))\n",
    "\n",
    "    w= np.array([1.0,1.0],dtype='float')\n",
    "    for i in range (numStep):\n",
    "        for j in range (x.shape[0]):\n",
    "            w[1] = w[1] - stepSize*(w[1]+w[0]*x[j][0] - y[j])\n",
    "            w[0] = w[0] - stepSize * (w[1] + w[0] * x[j][0] - y[j])*x[j][0]\n",
    "\n",
    "    return w\n",
    "\n"
   ]
  },
  {
   "cell_type": "markdown",
   "metadata": {},
   "source": [
    "here we "
   ]
  },
  {
   "cell_type": "code",
   "execution_count": 25,
   "metadata": {
    "collapsed": true
   },
   "outputs": [],
   "source": [
    "def calTarget (x , w):\n",
    "    y = w[1] + x * w[0]\n",
    "\n",
    "    return y\n",
    "\n",
    "def produceResultPoint (testDataPath,w):\n",
    "    with open(testDataPath) as trainData1:\n",
    "        readCSV = csv.reader(trainData1,delimiter=',')\n",
    "        inputVar = []\n",
    "        targetVar = []\n",
    "        result = []\n",
    "\n",
    "        for row in readCSV:\n",
    "            inputVar.append(float(row[0]))\n",
    "            targetVar.append(float(row[1]))\n",
    "        for i in range(len(inputVar)):\n",
    "            result.append(calTarget(inputVar[i],w))\n",
    "    \n",
    "    plt.plot(inputVar,result,'g')\n",
    "    plt.plot(inputVar,targetVar,'ro')\n",
    "        plt.title('Visualization')\n",
    "    plt.xlabel('X')\n",
    "    plt.ylabel('Y')\n",
    "    plt.show()"
   ]
  },
  {
   "cell_type": "markdown",
   "metadata": {},
   "source": [
    "visualize the training process, the 5 visualizations below shows how the fit changes as we increase the steps"
   ]
  },
  {
   "cell_type": "code",
   "execution_count": 28,
   "metadata": {
    "collapsed": true
   },
   "outputs": [],
   "source": [
    "%matplotlib inline"
   ]
  },
  {
   "cell_type": "code",
   "execution_count": 29,
   "metadata": {},
   "outputs": [
    {
     "name": "stdout",
     "output_type": "stream",
     "text": [
      "step number = 1100\n"
     ]
    },
    {
     "data": {
      "image/png": "[encoded data removed]",
      "text/plain": [
       "<matplotlib.figure.Figure at 0x23e091556d8>"
      ]
     },
     "metadata": {},
     "output_type": "display_data"
    },
    {
     "name": "stdout",
     "output_type": "stream",
     "text": [
      "step number = 3300\n"
     ]
    },
    {
     "data": {
      "image/png": "[encoded data removed]",
      "text/plain": [
       "<matplotlib.figure.Figure at 0x23e091552e8>"
      ]
     },
     "metadata": {},
     "output_type": "display_data"
    },
    {
     "name": "stdout",
     "output_type": "stream",
     "text": [
      "step number = 5500\n"
     ]
    },
    {
     "data": {
      "image/png": "[encoded data removed]",
      "text/plain": [
       "<matplotlib.figure.Figure at 0x23e0b7adf98>"
      ]
     },
     "metadata": {},
     "output_type": "display_data"
    },
    {
     "name": "stdout",
     "output_type": "stream",
     "text": [
      "step number = 7700\n"
     ]
    },
    {
     "data": {
      "image/png": "[encoded data removed]",
      "text/plain": [
       "<matplotlib.figure.Figure at 0x23e0b749470>"
      ]
     },
     "metadata": {},
     "output_type": "display_data"
    },
    {
     "name": "stdout",
     "output_type": "stream",
     "text": [
      "step number = 9900\n"
     ]
    },
    {
     "data": {
      "image/png": "[encoded data removed]",
      "text/plain": [
       "<matplotlib.figure.Figure at 0x23e0b749a20>"
      ]
     },
     "metadata": {},
     "output_type": "display_data"
    }
   ],
   "source": [
    "for i in range (1,10,2):\n",
    "    stepSize = 1e-6\n",
    "    stepNum = i * 1100\n",
    "    print('step number = '+ str(stepNum))\n",
    "    w = getWByGDNoGraph('..\\\\Datasets\\\\Dataset_2_train.csv',stepSize,stepNum)\n",
    "    produceResultPoint('..\\\\Datasets\\\\Dataset_2_valid.csv',w)"
   ]
  },
  {
   "cell_type": "markdown",
   "metadata": {},
   "source": [
    "Question 3"
   ]
  },
  {
   "cell_type": "markdown",
   "metadata": {},
   "source": [
    "3.1"
   ]
  },
  {
   "cell_type": "markdown",
   "metadata": {},
   "source": [
    " the function below will handle the input data, we have the data itself and the statics of the data in two separate csv files, first the function will complete the dataset by filling all missing attributes using the median of the column. The mean value is an ok choice, however I believe the median could be a better choice. Since there could be outliers in the dataset, and median is not affect by it. And we could also randomly choose any existing value to fill in the blank to introduce more randomness. After that, the function will shuffle the data and store them using the 80-20 splits."
   ]
  },
  {
   "cell_type": "code",
   "execution_count": 76,
   "metadata": {
    "collapsed": true
   },
   "outputs": [],
   "source": [
    "from random import shuffle\n",
    "def prepareData(dataPath, statPath):\n",
    "    with open(dataPath) as dataPath:\n",
    "        readCSV = csv.reader(dataPath, delimiter=',')\n",
    "        data = []\n",
    "        for row in readCSV:\n",
    "            data.append(row)\n",
    "    with open(statPath) as statPath:\n",
    "        readCSV = csv.reader(statPath, delimiter=',')\n",
    "        stat = []\n",
    "        for row in readCSV:\n",
    "            stat.append(row)\n",
    "\n",
    "    for j in range(len(data)):\n",
    "        for i in range(5, len(data[0])):\n",
    "            if (data[j][i] == '?'):\n",
    "                data[j][i] = stat[i - 5][6]\n",
    "    shuffle(data)\n",
    "    dataPortions = []\n",
    "\n",
    "    c = 0\n",
    "    for i in range(0, len(data), 399):\n",
    "        c += 1\n",
    "        if (c < 5):\n",
    "            dataPortions.append(data[i:i + 399])\n",
    "        else:\n",
    "            dataPortions.append(data[i:len(data)])\n",
    "    for i in range(1, 6):\n",
    "        with open('..\\\\Datasets\\\\CandC-train' + str(i) + '.csv', 'w', newline='') as csvfile:\n",
    "            csvWriter = csv.writer(csvfile, delimiter=',', quotechar='|', quoting=csv.QUOTE_MINIMAL)\n",
    "            for j in range(len(dataPortions)):\n",
    "                if (i - 1 != j):\n",
    "                    for k in range(len(dataPortions[j])):\n",
    "                        csvWriter.writerow(dataPortions[j][k])\n",
    "        with open('..\\\\Datasets\\\\CandC-test' + str(i) + '.csv', 'w', newline='') as csvfile:\n",
    "            csvWriter = csv.writer(csvfile, delimiter=',', quotechar='|', quoting=csv.QUOTE_MINIMAL)\n",
    "            for k in range(len(dataPortions[i - 1])):\n",
    "                csvWriter.writerow(dataPortions[i - 1][k])"
   ]
  },
  {
   "cell_type": "markdown",
   "metadata": {},
   "source": [
    "3.2"
   ]
  },
  {
   "cell_type": "markdown",
   "metadata": {},
   "source": [
    "the function below will calculate w using linear regression without regulation"
   ]
  },
  {
   "cell_type": "code",
   "execution_count": 50,
   "metadata": {
    "collapsed": true
   },
   "outputs": [],
   "source": [
    "def getW(trainPath):\n",
    "    with open(trainPath) as trainData1:\n",
    "        readCSV = csv.reader(trainData1, delimiter=',')\n",
    "        inputVar = []\n",
    "        targetVar = []\n",
    "\n",
    "        for row in readCSV:\n",
    "            inputVarTemp = []\n",
    "            for i in range(5, len(row) - 1):\n",
    "                inputVarTemp.append(float(row[i]))\n",
    "            inputVarTemp.append(1.0)\n",
    "            inputVar.append(inputVarTemp)\n",
    "            targetVarTemp = []\n",
    "            targetVarTemp.append(float(row[len(row) - 1]))\n",
    "            targetVar.append(targetVarTemp)\n",
    "\n",
    "    inputVar = np.array(inputVar, dtype='float')\n",
    "    targetVar = (np.array(targetVar, dtype='float'))\n",
    "    step1 = np.dot(np.transpose(inputVar), inputVar)  # xtx\n",
    "    step2 = np.dot(np.transpose(inputVar), targetVar)  # xty\n",
    "    w = np.dot(np.linalg.inv(step1), step2)\n",
    "    return w\n"
   ]
  },
  {
   "cell_type": "markdown",
   "metadata": {},
   "source": [
    "the function below will calculate the MSE"
   ]
  },
  {
   "cell_type": "code",
   "execution_count": 51,
   "metadata": {
    "collapsed": true
   },
   "outputs": [],
   "source": [
    "def calMSE(testDataPath, w):\n",
    "    with open(testDataPath) as trainData1:\n",
    "        readCSV = csv.reader(trainData1, delimiter=',')\n",
    "        inputVar = []\n",
    "        targetVar = []\n",
    "\n",
    "        for row in readCSV:\n",
    "            inputVarTemp = []\n",
    "            for i in range(5, len(row) - 1):\n",
    "                inputVarTemp.append(float(row[i]))\n",
    "            inputVarTemp.append(1.0)\n",
    "            inputVar.append(inputVarTemp)\n",
    "            targetVarTemp = []\n",
    "            targetVarTemp.append(float(row[len(row) - 1]))\n",
    "            targetVar.append(targetVarTemp)\n",
    "    inputVar = np.array(inputVar, dtype='float')\n",
    "    targetVar = (np.array(targetVar, dtype='float'))\n",
    "\n",
    "    YsXw = np.subtract(targetVar, np.dot(inputVar, w))\n",
    "    Error = np.square(YsXw).mean()\n",
    "    return Error"
   ]
  },
  {
   "cell_type": "markdown",
   "metadata": {},
   "source": [
    "here we will run the code on 5 different 80-20 splits"
   ]
  },
  {
   "cell_type": "code",
   "execution_count": 77,
   "metadata": {},
   "outputs": [
    {
     "name": "stdout",
     "output_type": "stream",
     "text": [
      "the MSE for 80-20 split 1 is 0.0224269076138\n",
      "the MSE for 80-20 split 2 is 0.019497119073\n",
      "the MSE for 80-20 split 3 is 0.0183477433374\n",
      "the MSE for 80-20 split 4 is 0.0197028885344\n",
      "the MSE for 80-20 split 5 is 55.1123236905\n"
     ]
    }
   ],
   "source": [
    "Ws = []\n",
    "for i in range(1, 6):\n",
    "    w = getW('..\\\\Datasets\\\\CandC-train' + str(i) + '.csv')\n",
    "    Ws.append(w)\n",
    "    mse = calMSE('..\\\\Datasets\\\\CandC-test' + str(i) + '.csv', w)\n",
    "    print('the MSE for 80-20 split '+str(i)+ ' is '+str(mse))"
   ]
  },
  {
   "cell_type": "markdown",
   "metadata": {},
   "source": [
    "the best MSE achieced is 0.0183477433374 on 80-20 split 3, the parameters learnt were stored in Ws"
   ]
  },
  {
   "cell_type": "markdown",
   "metadata": {},
   "source": [
    "the following functions below will apply the Ridge-regression on the data, with an input lamda, first we will get the W matrix"
   ]
  },
  {
   "cell_type": "code",
   "execution_count": 80,
   "metadata": {
    "collapsed": true
   },
   "outputs": [],
   "source": [
    "def getWRidge(trainSetPath, lamda):\n",
    "    with open(trainSetPath) as trainData1:\n",
    "        readCSV = csv.reader(trainData1, delimiter=',')\n",
    "        inputVar = []\n",
    "        targetVar = []\n",
    "\n",
    "        for row in readCSV:\n",
    "            inputVarTemp = []\n",
    "            for i in range(5, len(row) - 1):\n",
    "                inputVarTemp.append(float(row[i]))\n",
    "            inputVarTemp.append(1.0)\n",
    "            inputVar.append(inputVarTemp)\n",
    "            targetVarTemp = []\n",
    "            targetVarTemp.append(float(row[len(row) - 1]))\n",
    "            targetVar.append(targetVarTemp)\n",
    "\n",
    "    inputVar = np.array(inputVar, dtype='float')\n",
    "    targetVar = (np.array(targetVar, dtype='float'))\n",
    "    step1 = np.dot(np.transpose(inputVar), inputVar)\n",
    "    step2 = np.add(step1, lamda * np.identity(step1.shape[0]))\n",
    "    step3 = np.linalg.inv(step2)\n",
    "    step4 = np.dot(np.transpose(inputVar), targetVar)\n",
    "    w = np.dot(step3, step4)\n",
    "    return w"
   ]
  },
  {
   "cell_type": "markdown",
   "metadata": {},
   "source": [
    "then we will find the optimal lamda, by varing lamda and get the w matrix produced by getWRidge function and calculate the MSE average, the lamda that produce the smallest MSE average is the optimal one"
   ]
  },
  {
   "cell_type": "code",
   "execution_count": 100,
   "metadata": {
    "collapsed": true
   },
   "outputs": [],
   "source": [
    "def findLamda():\n",
    "    lamda = 0.0\n",
    "    MSEAverage = []\n",
    "    lamdas = []\n",
    "    Ws = []\n",
    "    while (lamda <= 0.2):\n",
    "        MSEs = []\n",
    "        Wtemp = []\n",
    "        for i in range(1, 6):\n",
    "            w = getWRidge('..\\\\Datasets\\\\CandC-train' + str(i) + '.csv', lamda)\n",
    "            mse = calMSE('..\\\\Datasets\\\\CandC-test' + str(i) + '.csv', w)\n",
    "            MSEs.append(mse)\n",
    "            Wtemp.append(w)\n",
    "        meanMSE = np.array(MSEs, dtype='float').mean()\n",
    "#         print(meanMSE)\n",
    "        MSEAverage.append(meanMSE)\n",
    "        lamdas.append(lamda)\n",
    "        Ws.append(Wtemp)\n",
    "        lamda += 0.002\n",
    "    minErr = 0.0\n",
    "    minLamda = 0.0\n",
    "    for i in range(len(lamdas)):\n",
    "        if (minErr == 0.0):\n",
    "            minErr = MSEAverage[i]\n",
    "            minLamda = lamdas[i]\n",
    "        elif (minErr > MSEAverage[i]):\n",
    "            minErr = MSEAverage[i]\n",
    "            minLamda = lamdas[i]\n",
    "            minW = Ws[i]\n",
    "    print('the optimal lamda is = '+str(minLamda)+', produce an Average MSE of ' \n",
    "             +str(minErr))\n",
    "    plt.axis([0, 0.2, 0, 8])\n",
    "    plt.plot(lamdas, MSEAverage)\n",
    "    plt.title('MSE vs Lamda')\n",
    "    plt.xlabel('Lamda')\n",
    "    plt.ylabel('MSE')\n",
    "    plt.show()"
   ]
  },
  {
   "cell_type": "markdown",
   "metadata": {},
   "source": [
    "find minimum lamda"
   ]
  },
  {
   "cell_type": "code",
   "execution_count": 101,
   "metadata": {},
   "outputs": [
    {
     "name": "stdout",
     "output_type": "stream",
     "text": [
      "the optimal lamda is = 0.19800000000000015, produce an Average MSE of 0.0186803982322\n"
     ]
    },
    {
     "data": {
      "image/png": "[encoded data removed]",
      "text/plain": [
       "<matplotlib.figure.Figure at 0x23e08f7de80>"
      ]
     },
     "metadata": {},
     "output_type": "display_data"
    }
   ],
   "source": [
    "findLamda()"
   ]
  },
  {
   "cell_type": "markdown",
   "metadata": {},
   "source": [
    "From the parameter matrix w, we could tell some features are redundant or irrelevant. The weight for irrelevant feature must be low thus they can be removed. However, according to the source, all the data has been normalized in a way that does not preserve relationships between values BETWEEN attributes, so there will not be strong corrlation between features."
   ]
  },
  {
   "cell_type": "markdown",
   "metadata": {},
   "source": [
    "here we get the w matrix using lamda = 0.2 and analysis which feature is irrelevant "
   ]
  },
  {
   "cell_type": "code",
   "execution_count": 102,
   "metadata": {},
   "outputs": [
    {
     "name": "stdout",
     "output_type": "stream",
     "text": [
      "[[[ -1.17711538e-02]\n",
      "  [  2.46734886e-02]\n",
      "  [  1.71533728e-01]\n",
      "  [ -1.92166321e-02]\n",
      "  [  1.22931883e-03]\n",
      "  [  5.68155813e-02]\n",
      "  [  4.06229746e-03]\n",
      "  [ -4.57823583e-02]\n",
      "  [ -1.40500956e-02]\n",
      "  [  5.42436493e-02]\n",
      "  [ -1.69444904e-02]\n",
      "  [  4.36440600e-02]\n",
      "  [  3.23578426e-02]\n",
      "  [ -3.81012510e-02]\n",
      "  [  3.54340925e-02]\n",
      "  [ -5.89954110e-02]\n",
      "  [  5.69153071e-02]\n",
      "  [  4.75631054e-02]\n",
      "  [ -4.98973991e-02]\n",
      "  [  2.76797216e-02]\n",
      "  [ -2.27657415e-02]\n",
      "  [ -7.22565797e-02]\n",
      "  [ -1.91911578e-02]\n",
      "  [ -2.55484588e-02]\n",
      "  [  1.82183842e-02]\n",
      "  [  3.07064725e-02]\n",
      "  [  2.16951743e-02]\n",
      "  [  1.14744261e-02]\n",
      "  [ -5.78554128e-02]\n",
      "  [ -3.73524368e-02]\n",
      "  [  4.52481197e-02]\n",
      "  [  3.59440968e-05]\n",
      "  [ -1.94506525e-02]\n",
      "  [  6.00337339e-02]\n",
      "  [ -1.47929271e-02]\n",
      "  [  1.01417153e-02]\n",
      "  [  1.79014776e-02]\n",
      "  [  2.29929625e-02]\n",
      "  [  1.03176615e-01]\n",
      "  [  4.89846966e-02]\n",
      "  [ -6.74292910e-03]\n",
      "  [  3.25567653e-02]\n",
      "  [  4.56760120e-02]\n",
      "  [ -6.35865579e-02]\n",
      "  [ -9.30628564e-02]\n",
      "  [ -4.49034691e-02]\n",
      "  [ -2.03480118e-02]\n",
      "  [  3.25474203e-03]\n",
      "  [ -7.70866304e-02]\n",
      "  [ -2.29687217e-04]\n",
      "  [  1.33879465e-01]\n",
      "  [ -5.40608275e-02]\n",
      "  [  4.14915271e-03]\n",
      "  [ -1.82706080e-02]\n",
      "  [  1.34924995e-02]\n",
      "  [ -1.36092754e-03]\n",
      "  [ -1.95844241e-02]\n",
      "  [ -1.11397442e-03]\n",
      "  [  4.99350498e-02]\n",
      "  [  3.41078122e-02]\n",
      "  [  3.07132736e-02]\n",
      "  [ -4.41252615e-02]\n",
      "  [ -2.42263733e-02]\n",
      "  [ -3.47295318e-02]\n",
      "  [  5.42126647e-02]\n",
      "  [ -1.45809008e-02]\n",
      "  [  1.32911631e-02]\n",
      "  [ -3.55901293e-02]\n",
      "  [  7.09180162e-02]\n",
      "  [  4.62977565e-02]\n",
      "  [  9.40094824e-03]\n",
      "  [  7.03679459e-02]\n",
      "  [ -8.92205549e-02]\n",
      "  [  7.21407163e-03]\n",
      "  [  6.89264369e-02]\n",
      "  [ -3.87857379e-02]\n",
      "  [  2.18650440e-02]\n",
      "  [  2.51305685e-02]\n",
      "  [ -1.83509757e-02]\n",
      "  [ -2.07394435e-02]\n",
      "  [ -3.55205669e-03]\n",
      "  [  4.25126299e-04]\n",
      "  [ -9.11154307e-02]\n",
      "  [  2.20123503e-02]\n",
      "  [  4.11968480e-02]\n",
      "  [  6.24971557e-02]\n",
      "  [  4.16385793e-02]\n",
      "  [ -2.68407889e-02]\n",
      "  [ -4.65776648e-02]\n",
      "  [  9.08016839e-02]\n",
      "  [  1.07298860e-01]\n",
      "  [  4.29499975e-02]\n",
      "  [  9.22274379e-03]\n",
      "  [  9.15966746e-04]\n",
      "  [  2.92115500e-02]\n",
      "  [ -6.52108191e-03]\n",
      "  [ -2.31706911e-03]\n",
      "  [  6.89214967e-03]\n",
      "  [  6.10323220e-02]\n",
      "  [  2.91354857e-02]\n",
      "  [ -1.88579472e-02]\n",
      "  [  2.63242265e-02]\n",
      "  [  4.97443974e-02]\n",
      "  [  7.25708948e-03]\n",
      "  [ -3.18313962e-02]\n",
      "  [ -1.12537047e-02]\n",
      "  [  1.20336608e-02]\n",
      "  [  1.60000621e-02]\n",
      "  [  6.89295206e-02]\n",
      "  [  1.68495470e-02]\n",
      "  [ -2.21247942e-02]\n",
      "  [ -5.23195789e-03]\n",
      "  [ -5.80851462e-03]\n",
      "  [  1.88300020e-02]\n",
      "  [  1.84437273e-02]\n",
      "  [ -1.72622112e-02]\n",
      "  [  7.51886123e-02]\n",
      "  [  1.31909829e-02]\n",
      "  [  2.80229409e-02]\n",
      "  [  3.15075377e-02]\n",
      "  [  1.19567859e-02]\n",
      "  [  1.41649080e-02]\n",
      "  [  5.69183822e-02]]\n",
      "\n",
      " [[ -9.84198217e-03]\n",
      "  [  2.33330127e-02]\n",
      "  [  1.60435552e-01]\n",
      "  [ -8.65268283e-02]\n",
      "  [ -3.02445034e-02]\n",
      "  [  4.20535904e-02]\n",
      "  [  1.34029290e-02]\n",
      "  [ -6.51198134e-02]\n",
      "  [ -2.28062063e-02]\n",
      "  [  5.96712323e-02]\n",
      "  [ -1.53714958e-02]\n",
      "  [  4.71194728e-02]\n",
      "  [  1.72356533e-02]\n",
      "  [ -4.46451157e-02]\n",
      "  [  1.80101337e-02]\n",
      "  [ -8.72519846e-02]\n",
      "  [  5.19732070e-02]\n",
      "  [  2.91652270e-02]\n",
      "  [ -4.83364186e-02]\n",
      "  [  1.42855999e-02]\n",
      "  [ -9.85328900e-03]\n",
      "  [ -2.83409491e-02]\n",
      "  [ -2.13070284e-02]\n",
      "  [ -2.06239190e-02]\n",
      "  [  1.74875713e-02]\n",
      "  [  3.13685770e-02]\n",
      "  [  1.45439217e-02]\n",
      "  [ -2.00411851e-02]\n",
      "  [ -4.80771960e-02]\n",
      "  [ -3.52829855e-02]\n",
      "  [  2.52601406e-02]\n",
      "  [  1.58669040e-02]\n",
      "  [  3.19246518e-03]\n",
      "  [  6.81994706e-02]\n",
      "  [ -3.45927176e-02]\n",
      "  [ -5.84809984e-03]\n",
      "  [  3.30062025e-02]\n",
      "  [  1.05856446e-02]\n",
      "  [  9.72982299e-02]\n",
      "  [  5.30206012e-02]\n",
      "  [ -1.57442764e-02]\n",
      "  [  2.14865036e-02]\n",
      "  [  2.98375264e-02]\n",
      "  [ -4.14936246e-02]\n",
      "  [ -6.64242681e-02]\n",
      "  [ -6.31269154e-02]\n",
      "  [ -1.94970329e-02]\n",
      "  [  2.30537346e-02]\n",
      "  [ -8.50163801e-02]\n",
      "  [ -7.39209260e-03]\n",
      "  [  1.55124480e-01]\n",
      "  [ -4.08475132e-02]\n",
      "  [  2.43290720e-02]\n",
      "  [  9.92899878e-03]\n",
      "  [ -3.41573638e-02]\n",
      "  [ -5.18302561e-03]\n",
      "  [ -8.86485845e-03]\n",
      "  [  1.34723970e-02]\n",
      "  [  2.91185254e-02]\n",
      "  [  3.78263873e-02]\n",
      "  [  2.73033377e-02]\n",
      "  [ -5.54976001e-02]\n",
      "  [ -2.29970547e-02]\n",
      "  [ -2.64816531e-02]\n",
      "  [  6.19030181e-02]\n",
      "  [ -1.96986838e-02]\n",
      "  [  5.97987876e-03]\n",
      "  [ -3.51708288e-02]\n",
      "  [  7.79484918e-02]\n",
      "  [  6.03809203e-02]\n",
      "  [  1.72580695e-02]\n",
      "  [  9.18169508e-02]\n",
      "  [ -5.97291658e-02]\n",
      "  [  8.42008060e-03]\n",
      "  [  5.05496532e-02]\n",
      "  [ -4.26513027e-02]\n",
      "  [  1.17889696e-02]\n",
      "  [  2.99262397e-02]\n",
      "  [  8.23833882e-04]\n",
      "  [ -2.73317258e-02]\n",
      "  [  7.58642251e-03]\n",
      "  [  2.27751457e-02]\n",
      "  [ -9.72498868e-02]\n",
      "  [  8.76822868e-03]\n",
      "  [  2.41950339e-02]\n",
      "  [  6.94691742e-02]\n",
      "  [  4.79144114e-02]\n",
      "  [  1.75200719e-03]\n",
      "  [ -6.86751517e-02]\n",
      "  [  6.75815661e-02]\n",
      "  [  9.06972011e-02]\n",
      "  [  3.13614656e-02]\n",
      "  [  1.43729992e-03]\n",
      "  [  8.15939421e-03]\n",
      "  [  5.16180179e-02]\n",
      "  [ -1.05743473e-02]\n",
      "  [ -5.09129385e-03]\n",
      "  [  2.23896600e-02]\n",
      "  [  5.79963687e-02]\n",
      "  [  3.00627462e-02]\n",
      "  [ -7.96110866e-03]\n",
      "  [  4.36687546e-02]\n",
      "  [  5.35264170e-02]\n",
      "  [  2.27476639e-02]\n",
      "  [ -2.51387665e-02]\n",
      "  [  3.26638310e-02]\n",
      "  [  3.01882637e-02]\n",
      "  [  2.55569303e-02]\n",
      "  [  5.31766093e-02]\n",
      "  [  1.27539642e-02]\n",
      "  [ -6.06712691e-04]\n",
      "  [ -2.51071957e-03]\n",
      "  [ -2.71635907e-02]\n",
      "  [  5.23607675e-02]\n",
      "  [  1.30107739e-02]\n",
      "  [ -3.36700818e-02]\n",
      "  [  9.53150488e-03]\n",
      "  [  3.70604970e-03]\n",
      "  [  4.34427416e-02]\n",
      "  [  2.46579483e-02]\n",
      "  [  1.28819042e-02]\n",
      "  [  1.35674861e-02]\n",
      "  [  5.99828930e-02]]\n",
      "\n",
      " [[ -1.50388193e-02]\n",
      "  [  2.08576907e-02]\n",
      "  [  1.52138023e-01]\n",
      "  [ -6.89017990e-02]\n",
      "  [ -2.80050021e-02]\n",
      "  [  4.72708317e-02]\n",
      "  [  2.10787982e-02]\n",
      "  [ -4.93326991e-02]\n",
      "  [ -1.46276077e-02]\n",
      "  [  7.92573476e-02]\n",
      "  [ -1.83272960e-02]\n",
      "  [  3.41988144e-02]\n",
      "  [  2.08584103e-02]\n",
      "  [ -4.50580442e-03]\n",
      "  [  2.73215794e-02]\n",
      "  [ -8.24037725e-02]\n",
      "  [  6.17546706e-02]\n",
      "  [  1.66413953e-02]\n",
      "  [ -6.89024504e-02]\n",
      "  [  1.07347854e-02]\n",
      "  [ -1.60347958e-02]\n",
      "  [ -2.47763439e-02]\n",
      "  [ -2.70703670e-02]\n",
      "  [ -2.70476137e-02]\n",
      "  [  3.33300694e-02]\n",
      "  [  3.49666148e-02]\n",
      "  [  2.48673599e-02]\n",
      "  [ -1.51409861e-02]\n",
      "  [ -7.77648048e-02]\n",
      "  [ -6.11225907e-02]\n",
      "  [  3.37605570e-02]\n",
      "  [  2.88700714e-03]\n",
      "  [ -3.54990840e-03]\n",
      "  [  6.27877894e-02]\n",
      "  [ -3.76153459e-02]\n",
      "  [  7.52590147e-03]\n",
      "  [  4.65510561e-02]\n",
      "  [  2.82266398e-02]\n",
      "  [  1.03775015e-01]\n",
      "  [  6.45336299e-02]\n",
      "  [ -1.56550501e-02]\n",
      "  [  3.02561749e-02]\n",
      "  [  1.72817175e-02]\n",
      "  [ -6.87902603e-02]\n",
      "  [ -1.06290127e-01]\n",
      "  [ -3.41305627e-02]\n",
      "  [ -7.98460703e-03]\n",
      "  [ -9.64582753e-03]\n",
      "  [ -7.58189196e-02]\n",
      "  [  1.80466746e-03]\n",
      "  [  1.60507053e-01]\n",
      "  [ -3.20316550e-02]\n",
      "  [  4.73311336e-05]\n",
      "  [ -1.57117664e-02]\n",
      "  [ -1.42489039e-03]\n",
      "  [  2.85294511e-02]\n",
      "  [  6.37860781e-03]\n",
      "  [  3.41183842e-03]\n",
      "  [  1.55947809e-02]\n",
      "  [  1.80944795e-02]\n",
      "  [  3.10468111e-02]\n",
      "  [ -4.53736049e-02]\n",
      "  [ -2.40082006e-02]\n",
      "  [ -2.70985799e-02]\n",
      "  [  5.46764212e-02]\n",
      "  [ -1.07563928e-02]\n",
      "  [  2.64975332e-02]\n",
      "  [ -2.81341551e-02]\n",
      "  [  6.79955597e-02]\n",
      "  [  8.22091735e-02]\n",
      "  [  3.72184205e-03]\n",
      "  [  1.05619901e-01]\n",
      "  [ -5.98788765e-02]\n",
      "  [  1.60911451e-02]\n",
      "  [  5.51067677e-02]\n",
      "  [ -4.21912236e-02]\n",
      "  [ -6.75092645e-03]\n",
      "  [  1.16303384e-02]\n",
      "  [ -9.15369549e-03]\n",
      "  [ -2.76993847e-02]\n",
      "  [ -6.18535649e-03]\n",
      "  [  2.61601134e-04]\n",
      "  [ -1.07460159e-01]\n",
      "  [  1.95918100e-02]\n",
      "  [  3.26525405e-02]\n",
      "  [  7.18062702e-02]\n",
      "  [  4.33388932e-02]\n",
      "  [ -7.70467374e-03]\n",
      "  [ -7.13466157e-02]\n",
      "  [  6.22050116e-02]\n",
      "  [  1.02932198e-01]\n",
      "  [  5.90225863e-02]\n",
      "  [ -1.33913238e-02]\n",
      "  [  1.48128972e-02]\n",
      "  [  3.60940835e-02]\n",
      "  [  1.48075685e-02]\n",
      "  [ -5.19000079e-03]\n",
      "  [  1.02751766e-02]\n",
      "  [  6.19688607e-02]\n",
      "  [  1.68322954e-02]\n",
      "  [ -4.63579016e-03]\n",
      "  [  4.04147458e-02]\n",
      "  [  6.95466666e-02]\n",
      "  [  1.05983743e-02]\n",
      "  [ -4.14655188e-02]\n",
      "  [  2.78520901e-03]\n",
      "  [  3.82544917e-02]\n",
      "  [  3.88959138e-02]\n",
      "  [  5.41239614e-02]\n",
      "  [  2.70351664e-02]\n",
      "  [ -2.20777936e-02]\n",
      "  [  1.67380915e-03]\n",
      "  [ -6.49204857e-03]\n",
      "  [  1.58825559e-02]\n",
      "  [  8.32872601e-03]\n",
      "  [ -2.30381779e-02]\n",
      "  [  5.34522899e-02]\n",
      "  [  7.51686759e-04]\n",
      "  [  8.17012935e-03]\n",
      "  [  4.18308805e-02]\n",
      "  [  3.88289263e-03]\n",
      "  [ -7.26894851e-03]\n",
      "  [  6.33869758e-02]]\n",
      "\n",
      " [[ -1.53313694e-02]\n",
      "  [  2.83212096e-02]\n",
      "  [  1.46244688e-01]\n",
      "  [ -5.69844802e-02]\n",
      "  [ -1.49330336e-02]\n",
      "  [  1.69087806e-02]\n",
      "  [  3.05296978e-03]\n",
      "  [ -3.41269633e-02]\n",
      "  [ -2.30831534e-02]\n",
      "  [  4.78423644e-02]\n",
      "  [ -2.37793218e-02]\n",
      "  [  3.70889809e-02]\n",
      "  [  1.89726370e-02]\n",
      "  [ -2.49221445e-02]\n",
      "  [  1.63943020e-02]\n",
      "  [ -7.06463046e-02]\n",
      "  [  5.22080665e-02]\n",
      "  [  2.41337257e-02]\n",
      "  [ -3.25569618e-02]\n",
      "  [  8.48657022e-03]\n",
      "  [  2.94530540e-03]\n",
      "  [ -1.17082101e-02]\n",
      "  [ -1.59903714e-02]\n",
      "  [ -2.64259555e-02]\n",
      "  [  3.58574273e-02]\n",
      "  [  4.57827934e-02]\n",
      "  [  9.86528719e-03]\n",
      "  [ -9.21226662e-03]\n",
      "  [ -5.15630611e-02]\n",
      "  [ -4.34274159e-02]\n",
      "  [  4.51551259e-02]\n",
      "  [  1.51064366e-02]\n",
      "  [ -3.42467434e-02]\n",
      "  [  6.56569024e-02]\n",
      "  [ -4.35589343e-02]\n",
      "  [ -9.59437257e-03]\n",
      "  [  4.25647052e-02]\n",
      "  [  1.53912816e-02]\n",
      "  [  8.33891512e-02]\n",
      "  [  7.09538213e-02]\n",
      "  [  1.71494083e-02]\n",
      "  [  4.47939387e-02]\n",
      "  [  3.48254814e-02]\n",
      "  [ -3.66341080e-02]\n",
      "  [ -7.88158819e-02]\n",
      "  [ -4.48406049e-02]\n",
      "  [ -1.90908494e-02]\n",
      "  [ -1.34750515e-02]\n",
      "  [ -6.70673018e-02]\n",
      "  [ -2.48581198e-02]\n",
      "  [  1.91437603e-01]\n",
      "  [ -3.89005320e-02]\n",
      "  [  2.53311557e-02]\n",
      "  [ -1.70232746e-02]\n",
      "  [ -1.90354007e-02]\n",
      "  [  1.45268210e-02]\n",
      "  [ -7.77622782e-04]\n",
      "  [ -1.03501491e-03]\n",
      "  [  1.80854332e-02]\n",
      "  [  1.72299089e-02]\n",
      "  [  3.44930869e-04]\n",
      "  [ -3.48170993e-02]\n",
      "  [ -1.96355167e-02]\n",
      "  [ -3.38074336e-02]\n",
      "  [  5.98336681e-02]\n",
      "  [ -1.60925793e-02]\n",
      "  [  1.03321148e-02]\n",
      "  [ -3.22018050e-02]\n",
      "  [  8.75268985e-02]\n",
      "  [  7.49316040e-02]\n",
      "  [  6.10271290e-03]\n",
      "  [  9.02302650e-02]\n",
      "  [ -4.51828424e-02]\n",
      "  [  7.35187696e-03]\n",
      "  [  4.05634880e-02]\n",
      "  [ -3.49938085e-02]\n",
      "  [  1.47513294e-03]\n",
      "  [  3.59198086e-02]\n",
      "  [ -5.71866816e-03]\n",
      "  [ -3.15295411e-02]\n",
      "  [ -2.08371468e-03]\n",
      "  [  8.85549874e-03]\n",
      "  [ -9.70197085e-02]\n",
      "  [  8.04770464e-03]\n",
      "  [  2.91500481e-02]\n",
      "  [  5.46159602e-02]\n",
      "  [  6.03435390e-02]\n",
      "  [ -5.77642341e-05]\n",
      "  [ -8.59905912e-02]\n",
      "  [  7.57137093e-02]\n",
      "  [  1.22975955e-01]\n",
      "  [  4.50665031e-02]\n",
      "  [ -8.59790225e-03]\n",
      "  [  1.54534269e-02]\n",
      "  [  4.46664187e-02]\n",
      "  [  1.30208996e-02]\n",
      "  [  5.70495373e-03]\n",
      "  [  2.79991790e-02]\n",
      "  [  6.01961505e-02]\n",
      "  [  1.84194571e-02]\n",
      "  [ -2.35306558e-02]\n",
      "  [  1.38369610e-02]\n",
      "  [  5.30078454e-02]\n",
      "  [  2.83140038e-02]\n",
      "  [ -6.97113484e-02]\n",
      "  [ -6.14498478e-03]\n",
      "  [  3.11437487e-02]\n",
      "  [  7.37022670e-03]\n",
      "  [  3.14213300e-02]\n",
      "  [  1.08521862e-02]\n",
      "  [  3.02081051e-03]\n",
      "  [  2.26098065e-02]\n",
      "  [  3.97621914e-03]\n",
      "  [  1.02554520e-02]\n",
      "  [ -1.34267825e-02]\n",
      "  [ -2.49637048e-02]\n",
      "  [  4.40510219e-02]\n",
      "  [  3.50842395e-03]\n",
      "  [  3.15155978e-03]\n",
      "  [  1.64969520e-02]\n",
      "  [  2.80214271e-02]\n",
      "  [ -2.83911506e-02]\n",
      "  [  6.31125385e-02]]\n",
      "\n",
      " [[ -1.22913958e-02]\n",
      "  [  2.62262054e-02]\n",
      "  [  1.37049647e-01]\n",
      "  [ -5.19323422e-02]\n",
      "  [ -3.17423995e-02]\n",
      "  [  2.88604397e-02]\n",
      "  [ -1.34119116e-02]\n",
      "  [ -3.88500472e-02]\n",
      "  [ -2.40723016e-02]\n",
      "  [  5.11925695e-02]\n",
      "  [ -1.63964801e-02]\n",
      "  [  4.31084631e-02]\n",
      "  [  1.81755004e-02]\n",
      "  [ -3.47044490e-02]\n",
      "  [  1.80487563e-02]\n",
      "  [ -7.24544730e-02]\n",
      "  [  4.39415531e-02]\n",
      "  [  5.71873676e-02]\n",
      "  [ -4.30742051e-02]\n",
      "  [  1.29272817e-02]\n",
      "  [ -1.70720770e-04]\n",
      "  [ -9.19293535e-03]\n",
      "  [ -1.19669900e-02]\n",
      "  [ -2.37795583e-02]\n",
      "  [  2.74865875e-02]\n",
      "  [  5.12168422e-02]\n",
      "  [  3.75052751e-02]\n",
      "  [ -1.10572769e-02]\n",
      "  [ -4.77676288e-02]\n",
      "  [ -4.63009226e-02]\n",
      "  [  3.61934144e-02]\n",
      "  [  5.97113698e-03]\n",
      "  [  2.09683758e-03]\n",
      "  [  6.54316913e-02]\n",
      "  [ -5.14845169e-02]\n",
      "  [ -1.22918759e-02]\n",
      "  [  2.46425103e-02]\n",
      "  [  1.02370815e-02]\n",
      "  [  9.62299473e-02]\n",
      "  [  9.01954790e-02]\n",
      "  [ -4.51418845e-03]\n",
      "  [  2.34584918e-02]\n",
      "  [  1.89534349e-02]\n",
      "  [ -5.06923995e-02]\n",
      "  [ -8.84028609e-02]\n",
      "  [ -7.16454845e-02]\n",
      "  [ -2.11572184e-02]\n",
      "  [  1.24735136e-02]\n",
      "  [ -6.72574024e-02]\n",
      "  [ -3.24286690e-03]\n",
      "  [  1.41926592e-01]\n",
      "  [ -4.69426520e-02]\n",
      "  [  1.26213668e-02]\n",
      "  [ -1.43874027e-02]\n",
      "  [ -2.18738206e-02]\n",
      "  [ -3.67204200e-03]\n",
      "  [ -2.65749425e-03]\n",
      "  [  8.25992202e-03]\n",
      "  [  2.99736546e-02]\n",
      "  [  3.50129791e-02]\n",
      "  [  4.42429710e-02]\n",
      "  [ -5.14642074e-02]\n",
      "  [ -1.31167291e-02]\n",
      "  [ -1.07643472e-02]\n",
      "  [  4.96168816e-02]\n",
      "  [ -2.11687651e-02]\n",
      "  [  2.93418587e-02]\n",
      "  [ -3.55600851e-02]\n",
      "  [  4.96682925e-02]\n",
      "  [  5.45370738e-02]\n",
      "  [  1.09932744e-02]\n",
      "  [  8.41054363e-02]\n",
      "  [ -5.57401643e-02]\n",
      "  [  6.71343576e-03]\n",
      "  [  5.01897773e-02]\n",
      "  [ -3.40719016e-02]\n",
      "  [  2.01536427e-02]\n",
      "  [  3.91913902e-02]\n",
      "  [ -4.34251205e-03]\n",
      "  [ -3.06957336e-02]\n",
      "  [ -6.55470404e-03]\n",
      "  [ -4.67211357e-03]\n",
      "  [ -1.07646516e-01]\n",
      "  [  1.20747974e-02]\n",
      "  [  3.46057800e-02]\n",
      "  [  7.27891531e-02]\n",
      "  [  5.73237240e-02]\n",
      "  [ -1.47321451e-02]\n",
      "  [ -7.05735761e-02]\n",
      "  [  5.52074925e-02]\n",
      "  [  1.28951403e-01]\n",
      "  [  5.76027387e-02]\n",
      "  [ -3.68034116e-03]\n",
      "  [  8.65800631e-03]\n",
      "  [  3.09484881e-02]\n",
      "  [  7.66191370e-03]\n",
      "  [  1.17871993e-02]\n",
      "  [  1.10631413e-03]\n",
      "  [  3.95592251e-02]\n",
      "  [  2.47649774e-02]\n",
      "  [ -7.27059316e-03]\n",
      "  [  2.41667003e-02]\n",
      "  [  5.88252125e-02]\n",
      "  [  1.10631413e-03]\n",
      "  [ -4.05505248e-02]\n",
      "  [  1.06357036e-03]\n",
      "  [  3.11094889e-02]\n",
      "  [  1.99215996e-02]\n",
      "  [  4.31614049e-02]\n",
      "  [  1.22858579e-02]\n",
      "  [  3.96908102e-03]\n",
      "  [  1.67043054e-02]\n",
      "  [ -1.15625402e-02]\n",
      "  [  2.30066070e-02]\n",
      "  [  1.39451917e-02]\n",
      "  [ -1.24394384e-02]\n",
      "  [  3.90177241e-02]\n",
      "  [  2.61553996e-02]\n",
      "  [  4.44886826e-02]\n",
      "  [  2.95740464e-02]\n",
      "  [  2.37855573e-02]\n",
      "  [ -2.02642639e-02]\n",
      "  [  5.57794964e-02]]]\n"
     ]
    }
   ],
   "source": [
    "Ws = []\n",
    "\n",
    "for i in range(1, 6):\n",
    "    w = getWRidge('..\\\\Datasets\\\\CandC-train' + str(i) + '.csv', 5)\n",
    "    Ws.append(w)\n",
    "WStore = np.array(Ws)\n",
    "print(WStore.shape(S))"
   ]
  },
  {
   "cell_type": "code",
   "execution_count": null,
   "metadata": {
    "collapsed": true
   },
   "outputs": [],
   "source": []
  }
 ],
 "metadata": {
  "kernelspec": {
   "display_name": "Python 3",
   "language": "python",
   "name": "python3"
  },
  "language_info": {
   "codemirror_mode": {
    "name": "ipython",
    "version": 3
   },
   "file_extension": ".py",
   "mimetype": "text/x-python",
   "name": "python",
   "nbconvert_exporter": "python",
   "pygments_lexer": "ipython3",
   "version": "3.6.1"
  }
 },
 "nbformat": 4,
 "nbformat_minor": 2
}
