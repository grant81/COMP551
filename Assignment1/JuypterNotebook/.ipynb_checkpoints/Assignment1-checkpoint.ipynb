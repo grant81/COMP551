{
 "cells": [
  {
   "cell_type": "markdown",
   "metadata": {},
   "source": [
    "Assignment 1 Yingnan Zhao id: 260563769\n",
    "Question 1"
   ]
  },
  {
   "cell_type": "markdown",
   "metadata": {},
   "source": [
    "1.1"
   ]
  },
  {
   "cell_type": "code",
   "execution_count": 1,
   "metadata": {
    "collapsed": true
   },
   "outputs": [],
   "source": [
    "import numpy as np\n",
    "import matplotlib.pyplot as plt\n",
    "import math\n",
    "import csv"
   ]
  },
  {
   "cell_type": "markdown",
   "metadata": {},
   "source": [
    "the function below generates the W matrix with out any regulations\n",
    "using the formula W = (X^tX)X^tY"
   ]
  },
  {
   "cell_type": "code",
   "execution_count": 2,
   "metadata": {
    "collapsed": true
   },
   "outputs": [],
   "source": [
    "def getW(transetPath):  # 'Datasets\\\\Dataset_1_train.csv'\n",
    "    with open(transetPath) as trainData1:\n",
    "        readCSV = csv.reader(trainData1, delimiter=',')\n",
    "        inputVarTemp = []\n",
    "        targetVarTemp = []\n",
    "        inputVar = []\n",
    "        targetVar = []\n",
    "        one = []\n",
    "        for row in readCSV:\n",
    "            inputVarTemp.append(float(row[0]))\n",
    "            targetVarTemp.append(float(row[1]))\n",
    "        for i in range(len(inputVarTemp)):\n",
    "            one.append(1.0)\n",
    "    for j in range(m, 0, -1):\n",
    "        currentInput = np.power(inputVarTemp, j)\n",
    "        inputVar.append(currentInput)\n",
    "\n",
    "    inputVar.append(one)\n",
    "    targetVar.append(targetVarTemp)\n",
    "    inputVar = np.transpose(np.array(inputVar, dtype='float'))\n",
    "    targetVar = np.transpose(np.array(targetVar, dtype='float'))\n",
    "    step1 = np.dot(np.transpose(inputVar), inputVar)  # xtx\n",
    "    step2 = np.dot(np.transpose(inputVar), targetVar)  # xty\n",
    "    w = np.dot(np.linalg.inv(step1), step2)\n",
    "    return w"
   ]
  },
  {
   "cell_type": "markdown",
   "metadata": {},
   "source": [
    "the function below calculates the MSE of a given set of data and w matrix"
   ]
  },
  {
   "cell_type": "code",
   "execution_count": 3,
   "metadata": {},
   "outputs": [],
   "source": [
    "def calMSE(testDataPath, w):\n",
    "    with open(testDataPath) as trainData1:\n",
    "        readCSV = csv.reader(trainData1, delimiter=',')\n",
    "        inputVarTemp = []\n",
    "        targetVarTemp = []\n",
    "        inputVar = []\n",
    "        targetVar = []\n",
    "        one = []\n",
    "        for row in readCSV:\n",
    "            inputVarTemp.append(float(row[0]))\n",
    "            targetVarTemp.append(float(row[1]))\n",
    "        for i in range(len(inputVarTemp)):\n",
    "            one.append(1.0)\n",
    "    for j in range(m, 0, -1):\n",
    "        currentInput = np.power(inputVarTemp, j)\n",
    "        inputVar.append(currentInput)\n",
    "\n",
    "    inputVar.append(one)\n",
    "    targetVar.append(targetVarTemp)\n",
    "    inputVar = np.transpose(np.array(inputVar, dtype='float'))\n",
    "    targetVar = np.transpose(np.array(targetVar, dtype='float'))\n",
    "\n",
    "    YsXw = np.subtract(targetVar, np.dot(inputVar, w))\n",
    "    Error = np.square(YsXw).mean()\n",
    "    return Error"
   ]
  },
  {
   "cell_type": "markdown",
   "metadata": {},
   "source": [
    "calculating training MSE and Validation MSE"
   ]
  },
  {
   "cell_type": "code",
   "execution_count": 4,
   "metadata": {},
   "outputs": [
    {
     "ename": "FileNotFoundError",
     "evalue": "[Errno 2] No such file or directory: 'Datasets\\\\Dataset_1_train.csv'",
     "output_type": "error",
     "traceback": [
      "\u001b[1;31m---------------------------------------------------------------------------\u001b[0m",
      "\u001b[1;31mFileNotFoundError\u001b[0m                         Traceback (most recent call last)",
      "\u001b[1;32m<ipython-input-4-cfe90d0c1963>\u001b[0m in \u001b[0;36m<module>\u001b[1;34m()\u001b[0m\n\u001b[1;32m----> 1\u001b[1;33m \u001b[0mw\u001b[0m \u001b[1;33m=\u001b[0m \u001b[0mgetW\u001b[0m\u001b[1;33m(\u001b[0m\u001b[1;34m'Datasets\\Dataset_1_train.csv'\u001b[0m\u001b[1;33m)\u001b[0m\u001b[1;33m\u001b[0m\u001b[0m\n\u001b[0m\u001b[0;32m      2\u001b[0m \u001b[0mprint\u001b[0m\u001b[1;33m(\u001b[0m\u001b[1;34m'training set MSE = '\u001b[0m\u001b[1;33m+\u001b[0m\u001b[0mstr\u001b[0m\u001b[1;33m(\u001b[0m\u001b[0mcalMSE\u001b[0m\u001b[1;33m(\u001b[0m\u001b[1;34m'Datasets\\Dataset_1_train.csv'\u001b[0m\u001b[1;33m)\u001b[0m\u001b[1;33m,\u001b[0m\u001b[0mw\u001b[0m\u001b[1;33m)\u001b[0m\u001b[1;33m)\u001b[0m\u001b[1;33m\u001b[0m\u001b[0m\n\u001b[0;32m      3\u001b[0m \u001b[0mprint\u001b[0m\u001b[1;33m(\u001b[0m\u001b[1;34m'validation set MSE = '\u001b[0m\u001b[1;33m+\u001b[0m\u001b[0mstr\u001b[0m\u001b[1;33m(\u001b[0m\u001b[0mcalMSE\u001b[0m\u001b[1;33m(\u001b[0m\u001b[1;34m'Datasets\\Dataset_1_valid.csv'\u001b[0m\u001b[1;33m)\u001b[0m\u001b[1;33m,\u001b[0m\u001b[0mw\u001b[0m\u001b[1;33m)\u001b[0m\u001b[1;33m)\u001b[0m\u001b[1;33m\u001b[0m\u001b[0m\n",
      "\u001b[1;32m<ipython-input-2-c41ab5e89cb0>\u001b[0m in \u001b[0;36mgetW\u001b[1;34m(transetPath)\u001b[0m\n\u001b[0;32m      1\u001b[0m \u001b[1;32mdef\u001b[0m \u001b[0mgetW\u001b[0m\u001b[1;33m(\u001b[0m\u001b[0mtransetPath\u001b[0m\u001b[1;33m)\u001b[0m\u001b[1;33m:\u001b[0m  \u001b[1;31m# 'Datasets\\\\Dataset_1_train.csv'\u001b[0m\u001b[1;33m\u001b[0m\u001b[0m\n\u001b[1;32m----> 2\u001b[1;33m     \u001b[1;32mwith\u001b[0m \u001b[0mopen\u001b[0m\u001b[1;33m(\u001b[0m\u001b[0mtransetPath\u001b[0m\u001b[1;33m)\u001b[0m \u001b[1;32mas\u001b[0m \u001b[0mtrainData1\u001b[0m\u001b[1;33m:\u001b[0m\u001b[1;33m\u001b[0m\u001b[0m\n\u001b[0m\u001b[0;32m      3\u001b[0m         \u001b[0mreadCSV\u001b[0m \u001b[1;33m=\u001b[0m \u001b[0mcsv\u001b[0m\u001b[1;33m.\u001b[0m\u001b[0mreader\u001b[0m\u001b[1;33m(\u001b[0m\u001b[0mtrainData1\u001b[0m\u001b[1;33m,\u001b[0m \u001b[0mdelimiter\u001b[0m\u001b[1;33m=\u001b[0m\u001b[1;34m','\u001b[0m\u001b[1;33m)\u001b[0m\u001b[1;33m\u001b[0m\u001b[0m\n\u001b[0;32m      4\u001b[0m         \u001b[0minputVarTemp\u001b[0m \u001b[1;33m=\u001b[0m \u001b[1;33m[\u001b[0m\u001b[1;33m]\u001b[0m\u001b[1;33m\u001b[0m\u001b[0m\n\u001b[0;32m      5\u001b[0m         \u001b[0mtargetVarTemp\u001b[0m \u001b[1;33m=\u001b[0m \u001b[1;33m[\u001b[0m\u001b[1;33m]\u001b[0m\u001b[1;33m\u001b[0m\u001b[0m\n",
      "\u001b[1;31mFileNotFoundError\u001b[0m: [Errno 2] No such file or directory: 'Datasets\\\\Dataset_1_train.csv'"
     ]
    }
   ],
   "source": [
    "w = getW('Datasets\\\\Dataset_1_train.csv')\n",
    "print('training set MSE = '+str(calMSE('Datasets\\\\Dataset_1_train.csv'),w))\n",
    "print('validation set MSE = '+str(calMSE('Datasets\\\\Dataset_1_valid.csv'),w))"
   ]
  }
 ],
 "metadata": {
  "kernelspec": {
   "display_name": "Python 3",
   "language": "python",
   "name": "python3"
  },
  "language_info": {
   "codemirror_mode": {
    "name": "ipython",
    "version": 3
   },
   "file_extension": ".py",
   "mimetype": "text/x-python",
   "name": "python",
   "nbconvert_exporter": "python",
   "pygments_lexer": "ipython3",
   "version": "3.6.1"
  }
 },
 "nbformat": 4,
 "nbformat_minor": 2
}
