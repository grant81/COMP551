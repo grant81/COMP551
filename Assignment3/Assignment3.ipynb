{
 "cells": [
  {
   "cell_type": "markdown",
   "metadata": {},
   "source": [
    "### Assignment 3"
   ]
  },
  {
   "cell_type": "markdown",
   "metadata": {},
   "source": [
    "Yingnan Zhao 260563769"
   ]
  },
  {
   "cell_type": "code",
   "execution_count": 40,
   "metadata": {},
   "outputs": [],
   "source": [
    "import collections\n",
    "import csv\n",
    "import re\n",
    "import numpy as np\n",
    "import pandas as pd\n",
    "import matplotlib.pyplot as plt\n",
    "from scipy import sparse\n",
    "from sklearn.naive_bayes import GaussianNB\n",
    "from sklearn import metrics\n",
    "from sklearn.svm import LinearSVC\n",
    "from sklearn.tree import DecisionTreeClassifier\n",
    "from sklearn.naive_bayes import BernoulliNB\n",
    "from sklearn.dummy import DummyClassifier"
   ]
  },
  {
   "cell_type": "markdown",
   "metadata": {},
   "source": [
    "#### Question 1"
   ]
  },
  {
   "cell_type": "code",
   "execution_count": 2,
   "metadata": {},
   "outputs": [],
   "source": [
    "def preprocessing(data):\n",
    "    df = pd.read_csv(data, sep='delimiter', header=None, engine='python')\n",
    "    df = df[0]\n",
    "    for i in range(len(df)):\n",
    "        df[i] = re.sub(r'[^\\w]', ' ', str.lower(df[i]))\n",
    "    return df"
   ]
  },
  {
   "cell_type": "code",
   "execution_count": 3,
   "metadata": {},
   "outputs": [],
   "source": [
    "def buildVocabulary(dataset, storageLocation):  # 'datasets//yelp-vocab.csv'\n",
    "    dataset = preprocessing(dataset)\n",
    "    topWords = collections.Counter()\n",
    "    for comments in dataset:\n",
    "        words = comments.split()[:-1]\n",
    "        topWords.update(words)\n",
    "    topWords = topWords.most_common(10000)\n",
    "    Vocabulary = {}\n",
    "    with open(storageLocation, 'w', newline='') as csvfile:\n",
    "        csvWriter = csv.writer(csvfile, delimiter='\\t', quotechar='|', quoting=csv.QUOTE_MINIMAL)\n",
    "        for j in range(len(topWords)):\n",
    "            csvWriter.writerow([topWords[j][0], j, topWords[j][1]])\n",
    "            Vocabulary[topWords[j][0]] = ((j, topWords[j][1]))\n",
    "    return Vocabulary"
   ]
  },
  {
   "cell_type": "code",
   "execution_count": 4,
   "metadata": {},
   "outputs": [],
   "source": [
    "def buildReview(dataset, vocabulary,storageLocation):\n",
    "    dataset = preprocessing(dataset)\n",
    "    reviews = []\n",
    "    scores = []\n",
    "    for comment in dataset:\n",
    "        words = comment.split()\n",
    "        row = []\n",
    "        for k in range(len(words)-1):\n",
    "            res = vocabulary.get(words[k],-1)\n",
    "            if (res != -1):\n",
    "                row.append(res[0])\n",
    "        if(len(row)>0):\n",
    "            reviews.append(row)\n",
    "            scores.append(words[len(words)-1])\n",
    "    with open(storageLocation, 'w', newline='') as csvfile:\n",
    "        csvWriter = csv.writer(csvfile, delimiter=' ')\n",
    "        for j in range(len(reviews)):\n",
    "            row = []\n",
    "            for i in range(len(reviews[j])):\n",
    "                row.append(reviews[j][i])\n",
    "            row.append('\\t'+scores[j])\n",
    "            csvWriter.writerow(row)\n",
    "    return (reviews,scores)"
   ]
  },
  {
   "cell_type": "code",
   "execution_count": 5,
   "metadata": {},
   "outputs": [],
   "source": [
    "def readReviews(reviewPath):\n",
    "    df = pd.read_csv(reviewPath, sep='\\t',names=['review','score'], engine='python')\n",
    "    review = []\n",
    "    for line in df['review']:\n",
    "        row = line.split()\n",
    "        review.append(np.array(row).astype(np.float))\n",
    "    score = np.array(df['score']).astype(np.float)\n",
    "    return (review,score)"
   ]
  },
  {
   "cell_type": "code",
   "execution_count": 6,
   "metadata": {},
   "outputs": [],
   "source": [
    "def getBinaryBagOfWord(reviews):\n",
    "    row = []\n",
    "    col = []\n",
    "    value = []\n",
    "    length = len(reviews)\n",
    "    for i in range(len(reviews)):\n",
    "        temp = set()\n",
    "        for j in range(len(reviews[i])):\n",
    "            if(reviews[i][j] not in temp):\n",
    "                temp.add(reviews[i][j])\n",
    "                col.append(reviews[i][j])\n",
    "                row.append(i)\n",
    "                value.append(1)\n",
    "    BBWMatrix = sparse.bsr_matrix((value, (row, col)))\n",
    "    if(BBWMatrix.shape[1]!=10000):\n",
    "        BBWMatrix = sparse.bsr_matrix((BBWMatrix.data, BBWMatrix.indices, BBWMatrix.indptr),shape=(length, 10000))\n",
    "    # BBWMatrix = BBWMatrix.toarray()\n",
    "    return BBWMatrix"
   ]
  },
  {
   "cell_type": "code",
   "execution_count": 7,
   "metadata": {},
   "outputs": [],
   "source": [
    "def getFreqBagOfWord(reviews):\n",
    "    row = []\n",
    "    col = []\n",
    "    value = []\n",
    "    for i in range(len(reviews)):\n",
    "        temp = []\n",
    "        tempValue = []\n",
    "        for j in range(len(reviews[i])):\n",
    "            if(reviews[i][j] not in temp):\n",
    "                temp.append(reviews[i][j])\n",
    "                col.append(reviews[i][j])\n",
    "                row.append(i)\n",
    "                tempValue.append(1/len(reviews[i]))\n",
    "            else:\n",
    "                k = temp.index(reviews[i][j])\n",
    "                tempValue[k]+=1/len(reviews[i])\n",
    "        value += tempValue\n",
    "    FBWMatrix = sparse.bsr_matrix((value, (row, col)))\n",
    "    if (FBWMatrix.shape[1]!=10000):\n",
    "        FBWMatrix = sparse.bsr_matrix((FBWMatrix.data, FBWMatrix.indices, FBWMatrix.indptr), shape=(len(reviews), 10000))\n",
    "    # FBWMatrix = FBWMatrix.toarray()\n",
    "    return FBWMatrix"
   ]
  },
  {
   "cell_type": "code",
   "execution_count": 13,
   "metadata": {},
   "outputs": [],
   "source": [
    "def randomClassifier(trainingX,trainingY,testingX,testingY):\n",
    "    clfUniform = DummyClassifier(strategy='uniform',random_state=0)\n",
    "    clfUniform.fit(trainingX, trainingY)\n",
    "    preditYUniform = []\n",
    "    for i in range(len(testingX)):\n",
    "        ans1 = clfUniform.predict([testingX[i]])\n",
    "        preditYUniform.append(ans1)\n",
    "    print('Uniform Random F1 Score= ' + str(metrics.f1_score(testingY, preditYUniform, average='weighted')))\n",
    "def mostFrequentClassifier(trainingX,trainingY,testingX,testingY):\n",
    "    clfUniform = DummyClassifier(strategy='uniform',random_state=0)\n",
    "    clfUniform.fit(trainingX, trainingY)\n",
    "    preditYUniform = []\n",
    "    for i in range(len(testingX)):\n",
    "        ans1 = clfUniform.predict([testingX[i]])\n",
    "        preditYUniform.append(ans1)\n",
    "    print('Uniform Random F1 Score= ' + str(metrics.f1_score(testingY, preditYUniform, average='weighted')))"
   ]
  },
  {
   "cell_type": "markdown",
   "metadata": {},
   "source": [
    "get the yelp train set and validation data set ready in binary bag of words representation"
   ]
  },
  {
   "cell_type": "code",
   "execution_count": 14,
   "metadata": {},
   "outputs": [],
   "source": [
    "trainResult = readReviews('outputdatasets//yelp-train.txt')\n",
    "trainX = getBinaryBagOfWord(trainResult[0])\n",
    "trainY = trainResult[1]\n",
    "testResult = readReviews('outputdatasets//yelp-valid.txt')\n",
    "testX = getBinaryBagOfWord(testResult[0]).toarray()\n",
    "testY = testResult[1]"
   ]
  },
  {
   "cell_type": "markdown",
   "metadata": {},
   "source": [
    "set the baseline using the random classifier and the majority classifier"
   ]
  },
  {
   "cell_type": "code",
   "execution_count": 16,
   "metadata": {},
   "outputs": [
    {
     "name": "stdout",
     "output_type": "stream",
     "text": [
      "Most Frequent F1 Score= 0.18692625368731566\n",
      "Uniform Random F1 Score= 0.13846153846153844\n"
     ]
    },
    {
     "name": "stderr",
     "output_type": "stream",
     "text": [
      "C:\\ProgramData\\Anaconda3\\lib\\site-packages\\sklearn\\metrics\\classification.py:1135: UndefinedMetricWarning: F-score is ill-defined and being set to 0.0 in labels with no predicted samples.\n",
      "  'precision', 'predicted', average, warn_for)\n"
     ]
    }
   ],
   "source": [
    "majorityClassifier(trainX,trainY,testX,testY)\n",
    "randomClassifier(trainX,trainY,testX,testY)"
   ]
  },
  {
   "cell_type": "code",
   "execution_count": 41,
   "metadata": {},
   "outputs": [],
   "source": [
    "def plotHyperparameterTrainingProgress(input):\n",
    "    a = np.array(input,dtype='float')\n",
    "    a = np.transpose(a)\n",
    "    plt.plot(a[1], a[0], 'bo')\n",
    "    plt.title('Selecting HyperParameter')\n",
    "    plt.xlabel('Hyperparameter')\n",
    "    plt.ylabel('F1 Score')\n",
    "    plt.show()"
   ]
  },
  {
   "cell_type": "markdown",
   "metadata": {},
   "source": [
    "Find the optimal number of leaf"
   ]
  },
  {
   "cell_type": "code",
   "execution_count": 42,
   "metadata": {},
   "outputs": [],
   "source": [
    "def decisionTree(trainingX,trainingY,testingX,testingY,maxLeaf):\n",
    "    clf = DecisionTreeClassifier(criterion='entropy',max_leaf_nodes=maxLeaf)\n",
    "    clf.fit(trainingX, trainingY)\n",
    "    preditY = []\n",
    "    for i in range(len(testingX)):\n",
    "        ans = clf.predict([testingX[i]])\n",
    "        preditY.append(ans)\n",
    "    f1Score = metrics.f1_score(testingY,preditY,average='weighted')\n",
    "    #print('F1 Score = ' + str(f1Score))\n",
    "    return f1Score"
   ]
  },
  {
   "cell_type": "code",
   "execution_count": 43,
   "metadata": {},
   "outputs": [
    {
     "data": {
      "image/png": "[encoded data removed]",
      "text/plain": [
       "<matplotlib.figure.Figure at 0x145bec1a7b8>"
      ]
     },
     "metadata": {},
     "output_type": "display_data"
    },
    {
     "name": "stdout",
     "output_type": "stream",
     "text": [
      "the optimal number of leafs is 200, it achieves a F1 score of 0.37899321421260046\n"
     ]
    }
   ],
   "source": [
    "f1s = []\n",
    "for i in range (500,100,-10):\n",
    "    #print('number of leafs = '+str(i))\n",
    "    f1s.append([decisionTree(trainX,trainY,testX,testY,i),i])\n",
    "f1s.sort()\n",
    "plotHyperparameterTrainingProgress(f1s)\n",
    "print('the optimal number of leafs is '+str(f1s[len(f1s)-1][1])+', it achieves a F1 score of '+ str(f1s[len(f1s)-1][0]))"
   ]
  },
  {
   "cell_type": "code",
   "execution_count": 44,
   "metadata": {},
   "outputs": [],
   "source": [
    "def BernoulliNativeBayes(trainingX,trainingY,testingX,testingY,a):\n",
    "    clf = BernoulliNB(alpha=a)\n",
    "    clf.fit(trainingX, trainingY)\n",
    "    preditY = []\n",
    "    hit = 0\n",
    "    for i in range(len(testingX)):\n",
    "        ans = clf.predict([testingX[i]])\n",
    "        if ans == testingY[i]:\n",
    "            hit +=1\n",
    "        preditY.append(ans)\n",
    "    f1 = metrics.f1_score(testingY, preditY, average='weighted')\n",
    "    # print('F1 Score = ' + str(f1))\n",
    "    return f1"
   ]
  },
  {
   "cell_type": "code",
   "execution_count": 47,
   "metadata": {},
   "outputs": [
    {
     "name": "stderr",
     "output_type": "stream",
     "text": [
      "C:\\ProgramData\\Anaconda3\\lib\\site-packages\\sklearn\\naive_bayes.py:472: UserWarning: alpha too small will result in numeric errors, setting alpha = 1.0e-10\n",
      "  'setting alpha = %.1e' % _ALPHA_MIN)\n"
     ]
    },
    {
     "data": {
      "image/png": "[encoded data removed]",
      "text/plain": [
       "<matplotlib.figure.Figure at 0x145c03bccc0>"
      ]
     },
     "metadata": {},
     "output_type": "display_data"
    },
    {
     "name": "stdout",
     "output_type": "stream",
     "text": [
      "the optimal alpha is 0.015625, it achieves a F1 score of 0.39881457808808235\n"
     ]
    }
   ],
   "source": [
    "f1s = []\n",
    "a = 1\n",
    "for i in range(0,30):\n",
    "\n",
    "    a = a * 0.5**i\n",
    "    # print('alpha = '+str(a))\n",
    "    f1s.append([BernoulliNativeBayes(trainX, trainY, testX, testY, a), a])\n",
    "f1s.sort()\n",
    "plotHyperparameterTrainingProgress(f1s)\n",
    "print('the optimal alpha is ' + str(f1s[len(f1s)-1][1]) + ', it achieves a F1 score of ' + str(f1s[len(f1s)-1][0]))"
   ]
  },
  {
   "cell_type": "code",
   "execution_count": null,
   "metadata": {},
   "outputs": [],
   "source": []
  }
 ],
 "metadata": {
  "hide_input": false,
  "kernelspec": {
   "display_name": "Python 3",
   "language": "python",
   "name": "python3"
  },
  "language_info": {
   "codemirror_mode": {
    "name": "ipython",
    "version": 3
   },
   "file_extension": ".py",
   "mimetype": "text/x-python",
   "name": "python",
   "nbconvert_exporter": "python",
   "pygments_lexer": "ipython3",
   "version": "3.6.4"
  }
 },
 "nbformat": 4,
 "nbformat_minor": 2
}
