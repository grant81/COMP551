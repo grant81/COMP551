{
 "cells": [
  {
   "cell_type": "markdown",
   "metadata": {},
   "source": [
    "### Assignment 3"
   ]
  },
  {
   "cell_type": "markdown",
   "metadata": {},
   "source": [
    "Yingnan Zhao 260563769"
   ]
  },
  {
   "cell_type": "code",
   "execution_count": 1,
   "metadata": {},
   "outputs": [],
   "source": [
    "import collections\n",
    "import csv\n",
    "import re\n",
    "import numpy as np\n",
    "import pandas as pd\n",
    "import matplotlib.pyplot as plt\n",
    "from scipy import sparse\n",
    "from sklearn.naive_bayes import GaussianNB\n",
    "from sklearn import metrics\n",
    "from sklearn.svm import LinearSVC\n",
    "from sklearn.tree import DecisionTreeClassifier\n",
    "from sklearn.naive_bayes import BernoulliNB\n",
    "from sklearn.dummy import DummyClassifier\n",
    "import warnings; warnings.simplefilter('ignore')"
   ]
  },
  {
   "cell_type": "markdown",
   "metadata": {},
   "source": [
    "#### Question 1"
   ]
  },
  {
   "cell_type": "code",
   "execution_count": 2,
   "metadata": {},
   "outputs": [],
   "source": [
    "def preprocessing(data):\n",
    "    df = pd.read_csv(data, sep='delimiter', header=None, engine='python')\n",
    "    df = df[0]\n",
    "    for i in range(len(df)):\n",
    "        df[i] = re.sub(r'[^\\w]', ' ', str.lower(df[i]))\n",
    "    return df"
   ]
  },
  {
   "cell_type": "code",
   "execution_count": 3,
   "metadata": {},
   "outputs": [],
   "source": [
    "def buildVocabulary(dataset, storageLocation):  # 'datasets//yelp-vocab.csv'\n",
    "    dataset = preprocessing(dataset)\n",
    "    topWords = collections.Counter()\n",
    "    for comments in dataset:\n",
    "        words = comments.split()[:-1]\n",
    "        topWords.update(words)\n",
    "    topWords = topWords.most_common(10000)\n",
    "    Vocabulary = {}\n",
    "    with open(storageLocation, 'w', newline='') as csvfile:\n",
    "        csvWriter = csv.writer(csvfile, delimiter='\\t', quotechar='|', quoting=csv.QUOTE_MINIMAL)\n",
    "        for j in range(len(topWords)):\n",
    "            csvWriter.writerow([topWords[j][0], j, topWords[j][1]])\n",
    "            Vocabulary[topWords[j][0]] = ((j, topWords[j][1]))\n",
    "    return Vocabulary"
   ]
  },
  {
   "cell_type": "code",
   "execution_count": 4,
   "metadata": {},
   "outputs": [],
   "source": [
    "def buildReview(dataset, vocabulary,storageLocation):\n",
    "    dataset = preprocessing(dataset)\n",
    "    reviews = []\n",
    "    scores = []\n",
    "    for comment in dataset:\n",
    "        words = comment.split()\n",
    "        row = []\n",
    "        for k in range(len(words)-1):\n",
    "            res = vocabulary.get(words[k],-1)\n",
    "            if (res != -1):\n",
    "                row.append(res[0])\n",
    "        if(len(row)>0):\n",
    "            reviews.append(row)\n",
    "            scores.append(words[len(words)-1])\n",
    "    with open(storageLocation, 'w', newline='') as csvfile:\n",
    "        csvWriter = csv.writer(csvfile, delimiter=' ')\n",
    "        for j in range(len(reviews)):\n",
    "            row = []\n",
    "            for i in range(len(reviews[j])):\n",
    "                row.append(reviews[j][i])\n",
    "            row.append('\\t'+scores[j])\n",
    "            csvWriter.writerow(row)\n",
    "    return (reviews,scores)"
   ]
  },
  {
   "cell_type": "code",
   "execution_count": 5,
   "metadata": {},
   "outputs": [],
   "source": [
    "def readReviews(reviewPath):\n",
    "    df = pd.read_csv(reviewPath, sep='\\t',names=['review','score'], engine='python')\n",
    "    review = []\n",
    "    for line in df['review']:\n",
    "        row = line.split()\n",
    "        review.append(np.array(row).astype(np.float))\n",
    "    score = np.array(df['score']).astype(np.float)\n",
    "    return (review,score)"
   ]
  },
  {
   "cell_type": "code",
   "execution_count": 6,
   "metadata": {},
   "outputs": [],
   "source": [
    "def getBinaryBagOfWord(reviews):\n",
    "    row = []\n",
    "    col = []\n",
    "    value = []\n",
    "    length = len(reviews)\n",
    "    for i in range(len(reviews)):\n",
    "        temp = set()\n",
    "        for j in range(len(reviews[i])):\n",
    "            if(reviews[i][j] not in temp):\n",
    "                temp.add(reviews[i][j])\n",
    "                col.append(reviews[i][j])\n",
    "                row.append(i)\n",
    "                value.append(1)\n",
    "    BBWMatrix = sparse.bsr_matrix((value, (row, col)))\n",
    "    if(BBWMatrix.shape[1]!=10000):\n",
    "        BBWMatrix = sparse.bsr_matrix((BBWMatrix.data, BBWMatrix.indices, BBWMatrix.indptr),shape=(length, 10000))\n",
    "    # BBWMatrix = BBWMatrix.toarray()\n",
    "    return BBWMatrix"
   ]
  },
  {
   "cell_type": "code",
   "execution_count": 7,
   "metadata": {},
   "outputs": [],
   "source": [
    "def getFreqBagOfWord(reviews):\n",
    "    row = []\n",
    "    col = []\n",
    "    value = []\n",
    "    for i in range(len(reviews)):\n",
    "        temp = []\n",
    "        tempValue = []\n",
    "        for j in range(len(reviews[i])):\n",
    "            if(reviews[i][j] not in temp):\n",
    "                temp.append(reviews[i][j])\n",
    "                col.append(reviews[i][j])\n",
    "                row.append(i)\n",
    "                tempValue.append(1/len(reviews[i]))\n",
    "            else:\n",
    "                k = temp.index(reviews[i][j])\n",
    "                tempValue[k]+=1/len(reviews[i])\n",
    "        value += tempValue\n",
    "    FBWMatrix = sparse.bsr_matrix((value, (row, col)))\n",
    "    if (FBWMatrix.shape[1]!=10000):\n",
    "        FBWMatrix = sparse.bsr_matrix((FBWMatrix.data, FBWMatrix.indices, FBWMatrix.indptr), shape=(len(reviews), 10000))\n",
    "    # FBWMatrix = FBWMatrix.toarray()\n",
    "    return FBWMatrix"
   ]
  },
  {
   "cell_type": "code",
   "execution_count": 8,
   "metadata": {},
   "outputs": [],
   "source": [
    "def randomClassifier(trainingX,trainingY,testingX,testingY):\n",
    "    clfUniform = DummyClassifier(strategy='uniform',random_state=0)\n",
    "    clfUniform.fit(trainingX, trainingY)\n",
    "    preditYUniform = []\n",
    "    for i in range(len(testingX)):\n",
    "        ans1 = clfUniform.predict([testingX[i]])\n",
    "        preditYUniform.append(ans1)\n",
    "    print('Uniform Random F1 Score= ' + str(metrics.f1_score(testingY, preditYUniform, average='weighted')))\n",
    "def mostFrequentClassifier(trainingX,trainingY,testingX,testingY):\n",
    "    clfUniform = DummyClassifier(strategy='uniform',random_state=0)\n",
    "    clfUniform.fit(trainingX, trainingY)\n",
    "    preditYUniform = []\n",
    "    for i in range(len(testingX)):\n",
    "        ans1 = clfUniform.predict([testingX[i]])\n",
    "        preditYUniform.append(ans1)\n",
    "    print('Uniform Random F1 Score= ' + str(metrics.f1_score(testingY, preditYUniform, average='weighted')))"
   ]
  },
  {
   "cell_type": "markdown",
   "metadata": {},
   "source": [
    "get the yelp train set and validation data set ready in binary bag of words representation"
   ]
  },
  {
   "cell_type": "code",
   "execution_count": 62,
   "metadata": {},
   "outputs": [],
   "source": [
    "trainResult = readReviews('outputdatasets//yelp-train.txt')\n",
    "trainX = getBinaryBagOfWord(trainResult[0])\n",
    "trainY = trainResult[1]\n",
    "testResult = readReviews('outputdatasets//yelp-valid.txt')\n",
    "testX = getBinaryBagOfWord(testResult[0]).toarray()\n",
    "testY = testResult[1]"
   ]
  },
  {
   "cell_type": "markdown",
   "metadata": {},
   "source": [
    "set the baseline using the random classifier and the majority classifier"
   ]
  },
  {
   "cell_type": "code",
   "execution_count": 64,
   "metadata": {},
   "outputs": [
    {
     "name": "stdout",
     "output_type": "stream",
     "text": [
      "Uniform Random F1 Score= 0.13846153846153844\n",
      "Uniform Random F1 Score= 0.13846153846153844\n"
     ]
    }
   ],
   "source": [
    "mostFrequentClassifier(trainX,trainY,testX,testY)\n",
    "randomClassifier(trainX,trainY,testX,testY)"
   ]
  },
  {
   "cell_type": "code",
   "execution_count": 65,
   "metadata": {},
   "outputs": [],
   "source": [
    "def plotHyperparameterTrainingProgress(input):\n",
    "    a = np.array(input,dtype='float')\n",
    "    a = np.transpose(a)\n",
    "    plt.plot(a[1], a[0], 'bo')\n",
    "    plt.title('Selecting HyperParameter')\n",
    "    plt.xlabel('Hyperparameter')\n",
    "    plt.ylabel('F1 Score')\n",
    "    plt.show()"
   ]
  },
  {
   "cell_type": "markdown",
   "metadata": {},
   "source": [
    "Find the optimal number of leaf"
   ]
  },
  {
   "cell_type": "code",
   "execution_count": 9,
   "metadata": {},
   "outputs": [],
   "source": [
    "def decisionTree(trainingX, trainingY, testingX, testingY, maxLeaf,min_samples_split, max_features):\n",
    "    clf = DecisionTreeClassifier(criterion='entropy', max_leaf_nodes=maxLeaf, min_samples_split = min_samples_split)\n",
    "    clf.fit(trainingX, trainingY)\n",
    "    preditY = []\n",
    "    for i in range(len(testingX)):\n",
    "        ans = clf.predict([testingX[i]])\n",
    "        preditY.append(ans)\n",
    "    f1Score = metrics.f1_score(testingY, preditY, average='weighted')\n",
    "    return f1Score"
   ]
  },
  {
   "cell_type": "code",
   "execution_count": 21,
   "metadata": {},
   "outputs": [
    {
     "name": "stdout",
     "output_type": "stream",
     "text": [
      "the optimal number of leafs is 200, min sample split is:0.005, max features is :0.95, it achieves a F1 score of 0.380983427942\n"
     ]
    }
   ],
   "source": [
    "f1s = []\n",
    "for i in range (300,100,-10):\n",
    "    max_features = 1.0\n",
    "    for j in range(10):\n",
    "        max_features -= 0.05\n",
    "        min_sample_split =0.01\n",
    "        for k in range (10):\n",
    "            min_sample_split *= 0.5\n",
    "            f1s.append([decisionTree(trainX,trainY,testX,testY,i,min_sample_split,max_features),i,min_sample_split,max_features])\n",
    "f1s.sort()\n",
    "print('the optimal number of leafs is '+str(f1s[len(f1s)-1][1])+', min sample split is:'\n",
    "      + str(f1s[len(f1s)-1][2]) +', max features is :'+str(f1s[len(f1s)-1][3])+', it achieves a F1 score of '+ str(f1s[len(f1s)-1][0]))"
   ]
  },
  {
   "cell_type": "markdown",
   "metadata": {},
   "source": [
    "Bernoulli Native Bayes"
   ]
  },
  {
   "cell_type": "code",
   "execution_count": 66,
   "metadata": {},
   "outputs": [],
   "source": [
    "def BernoulliNativeBayes(trainingX,trainingY,testingX,testingY,a):\n",
    "    clf = BernoulliNB(alpha=a)\n",
    "    clf.fit(trainingX, trainingY)\n",
    "    preditY = []\n",
    "    hit = 0\n",
    "    for i in range(len(testingX)):\n",
    "        ans = clf.predict([testingX[i]])\n",
    "        if ans == testingY[i]:\n",
    "            hit +=1\n",
    "        preditY.append(ans)\n",
    "    f1 = metrics.f1_score(testingY, preditY, average='weighted')\n",
    "    # print('F1 Score = ' + str(f1))\n",
    "    return f1"
   ]
  },
  {
   "cell_type": "code",
   "execution_count": 67,
   "metadata": {},
   "outputs": [
    {
     "data": {
      "image/png": "[encoded data removed]",
      "text/plain": [
       "<matplotlib.figure.Figure at 0x2d0626c0d30>"
      ]
     },
     "metadata": {},
     "output_type": "display_data"
    },
    {
     "name": "stdout",
     "output_type": "stream",
     "text": [
      "the optimal alpha is 0.009688901040699992, it achieves a F1 score of 0.4028932560404406\n"
     ]
    }
   ],
   "source": [
    "f1s = []\n",
    "a = 1\n",
    "for i in range(0,30):\n",
    "\n",
    "    a *=0.7\n",
    "    # print('alpha = '+str(a))\n",
    "    f1s.append([BernoulliNativeBayes(trainX, trainY, testX, testY, a), a])\n",
    "f1s.sort()\n",
    "plotHyperparameterTrainingProgress(f1s)\n",
    "print('the optimal alpha is ' + str(f1s[len(f1s)-1][1]) + ', it achieves a F1 score of ' + str(f1s[len(f1s)-1][0]))"
   ]
  },
  {
   "cell_type": "markdown",
   "metadata": {},
   "source": [
    "Linear SVM"
   ]
  },
  {
   "cell_type": "code",
   "execution_count": 68,
   "metadata": {},
   "outputs": [],
   "source": [
    "def LinearSVM(trainingX, trainingY, testingX, testingY, C,dual):\n",
    "    clf = LinearSVC(C=C,dual=dual)\n",
    "    clf.fit(trainingX, trainingY)\n",
    "    preditY = []\n",
    "    for i in range(len(testingX)):\n",
    "        ans = clf.predict([testingX[i]])\n",
    "        preditY.append(ans)\n",
    "    f1Score = metrics.f1_score(testingY, preditY, average='weighted')\n",
    "    return f1Score"
   ]
  },
  {
   "cell_type": "code",
   "execution_count": 59,
   "metadata": {},
   "outputs": [
    {
     "data": {
      "image/png": "[encoded data removed]",
      "text/plain": [
       "<matplotlib.figure.Figure at 0x2d0629310f0>"
      ]
     },
     "metadata": {},
     "output_type": "display_data"
    },
    {
     "name": "stdout",
     "output_type": "stream",
     "text": [
      "the optimal C is 0.007979226629761192, it achieves a F1 score of 0.4967606230498824\n"
     ]
    }
   ],
   "source": [
    "C = 10\n",
    "f1s=[]\n",
    "for i in range(0, 30):\n",
    "    C  *= 0.7\n",
    "    # print('alpha = '+str(a))\n",
    "    f1s.append([LinearSVM(trainX, trainY, testX, testY, C,True), C])\n",
    "f1s.sort()\n",
    "plotHyperparameterTrainingProgress(f1s)\n",
    "print('the optimal C is ' + str(f1s[len(f1s) - 1][1]) + ', it achieves a F1 score of ' + str(f1s[len(f1s) - 1][0]))"
   ]
  },
  {
   "cell_type": "markdown",
   "metadata": {},
   "source": [
    "### Question 3"
   ]
  },
  {
   "cell_type": "code",
   "execution_count": 15,
   "metadata": {},
   "outputs": [],
   "source": [
    "trainResult = readReviews('outputdatasets//yelp-train.txt')\n",
    "trainX = getFreqBagOfWord(trainResult[0])\n",
    "trainY = trainResult[1]\n",
    "testResult = readReviews('outputdatasets//yelp-valid.txt')\n",
    "testX = getFreqBagOfWord(testResult[0]).toarray()\n",
    "testY = testResult[1]"
   ]
  },
  {
   "cell_type": "code",
   "execution_count": 16,
   "metadata": {},
   "outputs": [
    {
     "name": "stdout",
     "output_type": "stream",
     "text": [
      "the optimal number of leafs is 110, min sample split is:0.0025, max features is :0.95, it achieves a F1 score of 0.37382611446735314\n"
     ]
    }
   ],
   "source": [
    "f1s = []\n",
    "for i in range (300,100,-10):\n",
    "    max_features = 1.0\n",
    "    for j in range(10):\n",
    "        max_features -= 0.05\n",
    "        min_sample_split =0.01\n",
    "        for k in range (10):\n",
    "            min_sample_split *= 0.5\n",
    "            f1s.append([decisionTree(trainX,trainY,testX,testY,i,min_sample_split,max_features),i,min_sample_split,max_features])\n",
    "f1s.sort()\n",
    "print('the optimal number of leafs is '+str(f1s[len(f1s)-1][1])+', min sample split is:'\n",
    "      + str(f1s[len(f1s)-1][2]) +', max features is :'+str(f1s[len(f1s)-1][3])+', it achieves a F1 score of '+ str(f1s[len(f1s)-1][0]))"
   ]
  },
  {
   "cell_type": "code",
   "execution_count": 70,
   "metadata": {},
   "outputs": [],
   "source": [
    "def NativeBayesGaussian(trainingX, trainingY, testingX, testingY):\n",
    "    clf = GaussianNB()\n",
    "    clf.fit(trainingX.toarray(), trainingY)\n",
    "    preditY = []\n",
    "    for i in range(len(testingX)):\n",
    "        ans = clf.predict([testingX[i]])\n",
    "        preditY.append(ans)\n",
    "    f1 = metrics.f1_score(testingY, preditY, average='weighted')\n",
    "    return f1"
   ]
  },
  {
   "cell_type": "code",
   "execution_count": 71,
   "metadata": {},
   "outputs": [
    {
     "name": "stdout",
     "output_type": "stream",
     "text": [
      "Using Gaussian Native Bayes it achieves a F1 score of 0.2996177961851601\n"
     ]
    }
   ],
   "source": [
    "print('Using Gaussian Native Bayes it achieves a F1 score of ' +str(NativeBayesGaussian(trainX, trainY, testX, testY)))"
   ]
  },
  {
   "cell_type": "markdown",
   "metadata": {},
   "source": [
    "yelp freq bag of words svm"
   ]
  },
  {
   "cell_type": "code",
   "execution_count": 72,
   "metadata": {
    "scrolled": true
   },
   "outputs": [
    {
     "data": {
      "image/png": "[encoded data removed]",
      "text/plain": [
       "<matplotlib.figure.Figure at 0x2d062931518>"
      ]
     },
     "metadata": {},
     "output_type": "display_data"
    },
    {
     "name": "stdout",
     "output_type": "stream",
     "text": [
      "the optimal C is 17.15, it achieves a F1 score of 0.48178218374072873\n"
     ]
    }
   ],
   "source": [
    "C = 50\n",
    "f1s=[]\n",
    "for i in range(0, 30):\n",
    "    C *=0.7\n",
    "    # print('alpha = '+str(a))\n",
    "    f1s.append([LinearSVM(trainX, trainY, testX, testY, C,True), C])\n",
    "f1s.sort()\n",
    "plotHyperparameterTrainingProgress(f1s)\n",
    "print('the optimal C is ' + str(f1s[len(f1s) - 1][1]) + ', it achieves a F1 score of ' + str(f1s[len(f1s) - 1][0]))"
   ]
  },
  {
   "cell_type": "markdown",
   "metadata": {},
   "source": [
    "### Question4"
   ]
  },
  {
   "cell_type": "code",
   "execution_count": 12,
   "metadata": {},
   "outputs": [],
   "source": [
    "trainResult = readReviews('outputdatasets//IMDB-train.txt')\n",
    "trainX = getBinaryBagOfWord(trainResult[0])\n",
    "trainY = trainResult[1]\n",
    "testResult = readReviews('outputdatasets//IMDB-valid.txt')\n",
    "testX = getBinaryBagOfWord(testResult[0]).toarray()\n",
    "testY = testResult[1]"
   ]
  },
  {
   "cell_type": "markdown",
   "metadata": {},
   "source": [
    "imdb binary tree"
   ]
  },
  {
   "cell_type": "code",
   "execution_count": null,
   "metadata": {},
   "outputs": [],
   "source": []
  },
  {
   "cell_type": "markdown",
   "metadata": {},
   "source": [
    "imdb binary Native Bayes"
   ]
  },
  {
   "cell_type": "code",
   "execution_count": 81,
   "metadata": {},
   "outputs": [
    {
     "data": {
      "image/png": "[encoded data removed]",
      "text/plain": [
       "<matplotlib.figure.Figure at 0x2d06129eba8>"
      ]
     },
     "metadata": {},
     "output_type": "display_data"
    },
    {
     "name": "stdout",
     "output_type": "stream",
     "text": [
      "the optimal alpha is 0.04035360699999998, it achieves a F1 score of 0.8467741048237153\n"
     ]
    }
   ],
   "source": [
    "f1s = []\n",
    "a = 1\n",
    "for i in range(0,30):\n",
    "\n",
    "    a *=0.7\n",
    "    # print('alpha = '+str(a))\n",
    "    f1s.append([BernoulliNativeBayes(trainX, trainY, testX, testY, a), a])\n",
    "f1s.sort()\n",
    "plotHyperparameterTrainingProgress(f1s)\n",
    "print('the optimal alpha is ' + str(f1s[len(f1s)-1][1]) + ', it achieves a F1 score of ' + str(f1s[len(f1s)-1][0]))"
   ]
  },
  {
   "cell_type": "markdown",
   "metadata": {},
   "source": [
    "imdb binary SVM"
   ]
  },
  {
   "cell_type": "code",
   "execution_count": 82,
   "metadata": {},
   "outputs": [
    {
     "data": {
      "image/png": "[encoded data removed]",
      "text/plain": [
       "<matplotlib.figure.Figure at 0x2d062931ac8>"
      ]
     },
     "metadata": {},
     "output_type": "display_data"
    },
    {
     "name": "stdout",
     "output_type": "stream",
     "text": [
      "the optimal C is 0.005585458640832834, it achieves a F1 score of 0.8821900285640178\n"
     ]
    }
   ],
   "source": [
    "C = 10\n",
    "f1s=[]\n",
    "for i in range(0, 30):\n",
    "    C  *= 0.7\n",
    "    # print('alpha = '+str(a))\n",
    "    f1s.append([LinearSVM(trainX, trainY, testX, testY, C,False), C])\n",
    "f1s.sort()\n",
    "plotHyperparameterTrainingProgress(f1s)\n",
    "print('the optimal C is ' + str(f1s[len(f1s) - 1][1]) + ', it achieves a F1 score of ' + str(f1s[len(f1s) - 1][0]))"
   ]
  },
  {
   "cell_type": "code",
   "execution_count": 83,
   "metadata": {},
   "outputs": [],
   "source": [
    "trainResult = readReviews('outputdatasets//IMDB-train.txt')\n",
    "trainX = getFreqBagOfWord(trainResult[0])\n",
    "trainY = trainResult[1]\n",
    "testResult = readReviews('outputdatasets//IMDB-valid.txt')\n",
    "testX = getFreqBagOfWord(testResult[0]).toarray()\n",
    "testY = testResult[1]"
   ]
  },
  {
   "cell_type": "markdown",
   "metadata": {},
   "source": [
    "imdb freq tree"
   ]
  },
  {
   "cell_type": "code",
   "execution_count": null,
   "metadata": {},
   "outputs": [],
   "source": []
  },
  {
   "cell_type": "markdown",
   "metadata": {},
   "source": [
    "imdb freq Native Bayes"
   ]
  },
  {
   "cell_type": "code",
   "execution_count": 84,
   "metadata": {},
   "outputs": [
    {
     "name": "stdout",
     "output_type": "stream",
     "text": [
      "Using Gaussian Native Bayes it achieves a F1 score of 0.7526517355819135\n"
     ]
    }
   ],
   "source": [
    "print('Using Gaussian Native Bayes it achieves a F1 score of ' +str(NativeBayesGaussian(trainX, trainY, testX, testY)))"
   ]
  },
  {
   "cell_type": "markdown",
   "metadata": {},
   "source": [
    "imdb freq svm"
   ]
  },
  {
   "cell_type": "code",
   "execution_count": 88,
   "metadata": {},
   "outputs": [
    {
     "data": {
      "image/png": "[encoded data removed]",
      "text/plain": [
       "<matplotlib.figure.Figure at 0x2d0613feb38>"
      ]
     },
     "metadata": {},
     "output_type": "display_data"
    },
    {
     "name": "stdout",
     "output_type": "stream",
     "text": [
      "the optimal C is 168.06999999999994, it achieves a F1 score of 0.8842964999691241\n"
     ]
    }
   ],
   "source": [
    "C = 1000\n",
    "f1s=[]\n",
    "for i in range(0, 30):\n",
    "    C *=0.7\n",
    "    # print('alpha = '+str(a))\n",
    "    f1s.append([LinearSVM(trainX, trainY, testX, testY, C,False), C])\n",
    "f1s.sort()\n",
    "plotHyperparameterTrainingProgress(f1s)\n",
    "print('the optimal C is ' + str(f1s[len(f1s) - 1][1]) + ', it achieves a F1 score of ' + str(f1s[len(f1s) - 1][0]))"
   ]
  },
  {
   "cell_type": "code",
   "execution_count": null,
   "metadata": {},
   "outputs": [],
   "source": []
  },
  {
   "cell_type": "code",
   "execution_count": null,
   "metadata": {},
   "outputs": [],
   "source": []
  }
 ],
 "metadata": {
  "hide_input": false,
  "kernelspec": {
   "display_name": "Python 3",
   "language": "python",
   "name": "python3"
  },
  "language_info": {
   "codemirror_mode": {
    "name": "ipython",
    "version": 3
   },
   "file_extension": ".py",
   "mimetype": "text/x-python",
   "name": "python",
   "nbconvert_exporter": "python",
   "pygments_lexer": "ipython3",
   "version": "3.6.4"
  }
 },
 "nbformat": 4,
 "nbformat_minor": 2
}
