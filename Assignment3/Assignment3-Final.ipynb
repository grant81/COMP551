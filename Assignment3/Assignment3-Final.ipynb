{
 "cells": [
  {
   "cell_type": "markdown",
   "metadata": {},
   "source": [
    "### Assignment 3"
   ]
  },
  {
   "cell_type": "markdown",
   "metadata": {},
   "source": [
    "Yingnan Zhao 260563769"
   ]
  },
  {
   "cell_type": "code",
   "execution_count": 1,
   "metadata": {},
   "outputs": [],
   "source": [
    "import collections\n",
    "import csv\n",
    "import re\n",
    "import numpy as np\n",
    "import pandas as pd\n",
    "import matplotlib.pyplot as plt\n",
    "from scipy import sparse\n",
    "from sklearn.naive_bayes import GaussianNB\n",
    "from sklearn import metrics\n",
    "from sklearn.svm import LinearSVC\n",
    "from sklearn.tree import DecisionTreeClassifier\n",
    "from sklearn.naive_bayes import BernoulliNB\n",
    "from sklearn.dummy import DummyClassifier\n",
    "import warnings; warnings.simplefilter('ignore')"
   ]
  },
  {
   "cell_type": "markdown",
   "metadata": {},
   "source": [
    "#### Question 1"
   ]
  },
  {
   "cell_type": "markdown",
   "metadata": {},
   "source": [
    "The function below removes the special eharacters from the input data array.(string array)"
   ]
  },
  {
   "cell_type": "code",
   "execution_count": 2,
   "metadata": {},
   "outputs": [],
   "source": [
    "def preprocessing(data):\n",
    "    df = pd.read_csv(data, sep='delimiter', header=None, engine='python')\n",
    "    df = df[0]\n",
    "    for i in range(len(df)):\n",
    "        df[i] = re.sub(r'[^\\w]', ' ', str.lower(df[i]))\n",
    "    return df"
   ]
  },
  {
   "cell_type": "markdown",
   "metadata": {},
   "source": [
    "The function below uses the counter in the collections library to find the most common 10000 words in the input string array and store then in the designated location"
   ]
  },
  {
   "cell_type": "code",
   "execution_count": 3,
   "metadata": {},
   "outputs": [],
   "source": [
    "def buildVocabulary(dataset, storageLocation):  # 'datasets//yelp-vocab.csv'\n",
    "    dataset = preprocessing(dataset)\n",
    "    topWords = collections.Counter()\n",
    "    for comments in dataset:\n",
    "        words = comments.split()[:-1]\n",
    "        topWords.update(words)\n",
    "    topWords = topWords.most_common(10000)\n",
    "    Vocabulary = {}\n",
    "    with open(storageLocation, 'w', newline='') as csvfile:\n",
    "        csvWriter = csv.writer(csvfile, delimiter='\\t', quotechar='|', quoting=csv.QUOTE_MINIMAL)\n",
    "        for j in range(len(topWords)):\n",
    "            csvWriter.writerow([topWords[j][0], j, topWords[j][1]])\n",
    "            Vocabulary[topWords[j][0]] = ((j, topWords[j][1]))\n",
    "    return Vocabulary"
   ]
  },
  {
   "cell_type": "markdown",
   "metadata": {},
   "source": [
    "The function below transforms an array of strings(comments) in to reviews according to the vocabulary built by last function, so each words in a reviews is represented by the ID of that word in the vocabulary, the reviews will be stored in the designated location, at the end of each review the score is stored after a tab. This function enables us to store the data in a more efficient way and use sparse matrix."
   ]
  },
  {
   "cell_type": "code",
   "execution_count": 4,
   "metadata": {},
   "outputs": [],
   "source": [
    "def buildReview(dataset, vocabulary,storageLocation):\n",
    "    dataset = preprocessing(dataset)\n",
    "    reviews = []\n",
    "    scores = []\n",
    "    for comment in dataset:\n",
    "        words = comment.split()\n",
    "        row = []\n",
    "        for k in range(len(words)-1):\n",
    "            res = vocabulary.get(words[k],-1)\n",
    "            if (res != -1):\n",
    "                row.append(res[0])\n",
    "        if(len(row)>0):\n",
    "            reviews.append(row)\n",
    "            scores.append(words[len(words)-1])\n",
    "    with open(storageLocation, 'w', newline='') as csvfile:\n",
    "        csvWriter = csv.writer(csvfile, delimiter=' ')\n",
    "        for j in range(len(reviews)):\n",
    "            row = []\n",
    "            for i in range(len(reviews[j])):\n",
    "                row.append(reviews[j][i])\n",
    "            row.append('\\t'+scores[j])\n",
    "            csvWriter.writerow(row)\n",
    "    return (reviews,scores)"
   ]
  },
  {
   "cell_type": "markdown",
   "metadata": {},
   "source": [
    "Here we build the reviews for each of the datasets of IMDB and Yelp respectively, all of the reviews are stored in the outputdatasets folder"
   ]
  },
  {
   "cell_type": "code",
   "execution_count": 5,
   "metadata": {},
   "outputs": [
    {
     "ename": "SyntaxError",
     "evalue": "invalid syntax (<ipython-input-5-17108d7bf952>, line 8)",
     "output_type": "error",
     "traceback": [
      "\u001b[1;36m  File \u001b[1;32m\"<ipython-input-5-17108d7bf952>\"\u001b[1;36m, line \u001b[1;32m8\u001b[0m\n\u001b[1;33m    buildReview('datasets//yelp-valid.txt',vocab,'outputdatasets//yelp-valid.txt')f1s = []\u001b[0m\n\u001b[1;37m                                                                                    ^\u001b[0m\n\u001b[1;31mSyntaxError\u001b[0m\u001b[1;31m:\u001b[0m invalid syntax\n"
     ]
    }
   ],
   "source": [
    "vocab = buildVocabulary('datasets//IMDB-train.txt','outputdatasets//IMDB-vocab.txt')\n",
    "buildReview('datasets//IMDB-train.txt',vocab,'outputdatasets//IMDB-train.txt')\n",
    "buildReview('datasets//IMDB-test.txt',vocab,'outputdatasets//IMDB-test.txt')\n",
    "buildReview('datasets//IMDB-valid.txt',vocab,'outputdatasets//IMDB-valid.txt')\n",
    "vocab = buildVocabulary('datasets//yelp-train.txt','outputdatasets//yelp-vocab.txt')\n",
    "buildReview('datasets//yelp-train.txt',vocab,'outputdatasets//yelp-train.txt')\n",
    "buildReview('datasets//yelp-test.txt',vocab,'outputdatasets//yelp-test.txt')\n",
    "buildReview('datasets//yelp-valid.txt',vocab,'outputdatasets//yelp-valid.txt')\n"
   ]
  },
  {
   "cell_type": "markdown",
   "metadata": {},
   "source": [
    "The function Below reads the reviews from txt files, the review and score will be returned as two independ lists."
   ]
  },
  {
   "cell_type": "code",
   "execution_count": 6,
   "metadata": {},
   "outputs": [],
   "source": [
    "def readReviews(reviewPath):\n",
    "    df = pd.read_csv(reviewPath, sep='\\t',names=['review','score'], engine='python')\n",
    "    review = []\n",
    "    for line in df['review']:\n",
    "        row = line.split()\n",
    "        review.append(np.array(row).astype(np.float))\n",
    "    score = np.array(df['score']).astype(np.float)\n",
    "    return (review,score)"
   ]
  },
  {
   "cell_type": "markdown",
   "metadata": {},
   "source": [
    "This function transform the reviews in to a binary bag of word where each feature in the vocabulary is one column"
   ]
  },
  {
   "cell_type": "code",
   "execution_count": 7,
   "metadata": {},
   "outputs": [],
   "source": [
    "def getBinaryBagOfWord(reviews):\n",
    "    row = []\n",
    "    col = []\n",
    "    value = []\n",
    "    length = len(reviews)\n",
    "    for i in range(len(reviews)):\n",
    "        temp = set()\n",
    "        for j in range(len(reviews[i])):\n",
    "            if(reviews[i][j] not in temp):\n",
    "                temp.add(reviews[i][j])\n",
    "                col.append(reviews[i][j])\n",
    "                row.append(i)\n",
    "                value.append(1)\n",
    "    BBWMatrix = sparse.bsr_matrix((value, (row, col)))\n",
    "    if(BBWMatrix.shape[1]!=10000):\n",
    "        BBWMatrix = sparse.bsr_matrix((BBWMatrix.data, BBWMatrix.indices, BBWMatrix.indptr),shape=(length, 10000))\n",
    "    # BBWMatrix = BBWMatrix.toarray()\n",
    "    return BBWMatrix"
   ]
  },
  {
   "cell_type": "markdown",
   "metadata": {},
   "source": [
    "This function transform the reviews in to a frequency bag of word where each feature in the vocabulary is one column, and the sum of each row equals to 0."
   ]
  },
  {
   "cell_type": "code",
   "execution_count": 8,
   "metadata": {},
   "outputs": [],
   "source": [
    "def getFreqBagOfWord(reviews):\n",
    "    row = []\n",
    "    col = []\n",
    "    value = []\n",
    "    for i in range(len(reviews)):\n",
    "        temp = []\n",
    "        tempValue = []\n",
    "        for j in range(len(reviews[i])):\n",
    "            if(reviews[i][j] not in temp):\n",
    "                temp.append(reviews[i][j])\n",
    "                col.append(reviews[i][j])\n",
    "                row.append(i)\n",
    "                tempValue.append(1/len(reviews[i]))\n",
    "            else:\n",
    "                k = temp.index(reviews[i][j])\n",
    "                tempValue[k]+=1/len(reviews[i])\n",
    "        value += tempValue\n",
    "    FBWMatrix = sparse.bsr_matrix((value, (row, col)))\n",
    "    if (FBWMatrix.shape[1]!=10000):\n",
    "        FBWMatrix = sparse.bsr_matrix((FBWMatrix.data, FBWMatrix.indices, FBWMatrix.indptr), shape=(len(reviews), 10000))\n",
    "    # FBWMatrix = FBWMatrix.toarray()\n",
    "    return FBWMatrix"
   ]
  },
  {
   "cell_type": "markdown",
   "metadata": {},
   "source": [
    "### Question 2"
   ]
  },
  {
   "cell_type": "markdown",
   "metadata": {},
   "source": [
    "The functions below use different strategy(uniform random and majority) of the dummy classifier from sklearn and classify the imput data to serve as a base line."
   ]
  },
  {
   "cell_type": "code",
   "execution_count": 41,
   "metadata": {
    "collapsed": true
   },
   "outputs": [],
   "source": [
    "def randomClassifier(trainingX,trainingY,testingX,testingY):\n",
    "    clfUniform = DummyClassifier(strategy='uniform')\n",
    "    clfUniform.fit(trainingX, trainingY)\n",
    "    preditYUniform = []\n",
    "    for i in range(len(testingX)):\n",
    "        ans1 = clfUniform.predict([testingX[i]])\n",
    "        preditYUniform.append(ans1)\n",
    "    print('Uniform Random F1 Score= ' + str(metrics.f1_score(testingY, preditYUniform, average='weighted')))\n",
    "def mostFrequentClassifier(trainingX,trainingY,testingX,testingY):\n",
    "    clfUniform = DummyClassifier(strategy='most_frequent',random_state=0)\n",
    "    clfUniform.fit(trainingX, trainingY)\n",
    "    preditYUniform = []\n",
    "    for i in range(len(testingX)):\n",
    "        ans1 = clfUniform.predict([testingX[i]])\n",
    "        preditYUniform.append(ans1)\n",
    "    print('Most Frequent F1 Score= ' + str(metrics.f1_score(testingY, preditYUniform, average='weighted')))"
   ]
  },
  {
   "cell_type": "markdown",
   "metadata": {},
   "source": [
    "Get the yelp train, validation and test data set ready in binary bag of words representation, as well as the scores."
   ]
  },
  {
   "cell_type": "code",
   "execution_count": 16,
   "metadata": {},
   "outputs": [],
   "source": [
    "trainResult = readReviews('outputdatasets//yelp-train.txt')\n",
    "trainX = getBinaryBagOfWord(trainResult[0])\n",
    "trainY = trainResult[1]\n",
    "testResult = readReviews('outputdatasets//yelp-valid.txt')\n",
    "testX = getBinaryBagOfWord(testResult[0]).toarray()\n",
    "testY = testResult[1]\n",
    "testResultFinal = readReviews('outputdatasets//yelp-test.txt')\n",
    "testXFinal = getBinaryBagOfWord(testResultFinal[0]).toarray()\n",
    "testYFinal = testResultFinal[1]"
   ]
  },
  {
   "cell_type": "markdown",
   "metadata": {},
   "source": [
    "set the baseline using the random classifier and the majority classifier"
   ]
  },
  {
   "cell_type": "code",
   "execution_count": 44,
   "metadata": {},
   "outputs": [
    {
     "name": "stdout",
     "output_type": "stream",
     "text": [
      "Most Frequent F1 Score= 0.182384900074\n",
      "Uniform Random F1 Score= 0.212874083355\n"
     ]
    }
   ],
   "source": [
    "mostFrequentClassifier(trainX,trainY,testXFinal,testYFinal)\n",
    "randomClassifier(trainX,trainY,testXFinal,testYFinal)"
   ]
  },
  {
   "cell_type": "markdown",
   "metadata": {},
   "source": [
    "The function below plots F1 score vs the hyper parameter training"
   ]
  },
  {
   "cell_type": "code",
   "execution_count": 9,
   "metadata": {},
   "outputs": [],
   "source": [
    "def plotHyperparameterTrainingProgress(input):\n",
    "    a = np.array(input,dtype='float')\n",
    "    a = np.transpose(a)\n",
    "    plt.plot(a[1], a[0], 'bo')\n",
    "    plt.title('Selecting HyperParameter')\n",
    "    plt.xlabel('Hyperparameter')\n",
    "    plt.ylabel('F1 Score')\n",
    "    plt.show()"
   ]
  },
  {
   "cell_type": "markdown",
   "metadata": {},
   "source": [
    "The function uses the decision tree classifier from sklearn and return the weight F1 score. There are three hyper-parameter to be adjusted, maximum number of leaf, the minimum percentage of samples required to split an internal node, and the number of features to consider when looking for the best split."
   ]
  },
  {
   "cell_type": "code",
   "execution_count": 10,
   "metadata": {},
   "outputs": [],
   "source": [
    "def decisionTree(trainingX, trainingY, testingX, testingY, maxLeaf,min_samples_split, max_features):\n",
    "    clf = DecisionTreeClassifier(criterion='entropy', max_leaf_nodes=maxLeaf, min_samples_split = min_samples_split)\n",
    "    clf.fit(trainingX, trainingY)\n",
    "    preditY = []\n",
    "    for i in range(len(testingX)):\n",
    "        ans = clf.predict([testingX[i]])\n",
    "        preditY.append(ans)\n",
    "    f1Score = metrics.f1_score(testingY, preditY, average='weighted')\n",
    "    return f1Score"
   ]
  },
  {
   "cell_type": "markdown",
   "metadata": {},
   "source": [
    "A grid search has been done to find the best combinations of the three hyperparameters. For the maximum number of leaf feature I considered the range from 300 to 100, the maximum feature parameter I considered from 1 to 0.5 the min sample split I considered from 0.1 to 0.00097"
   ]
  },
  {
   "cell_type": "code",
   "execution_count": 11,
   "metadata": {},
   "outputs": [
    {
     "name": "stdout",
     "output_type": "stream",
     "text": [
      "the optimal number of leafs is 200, min sample split is:1.0, max features is :1.0, it achieves a F1 score of 0.380983427942\n"
     ]
    }
   ],
   "source": [
    "f1s = []\n",
    "for i in range (300,100,-10):\n",
    "    max_features = 1.0\n",
    "    for j in range(10):\n",
    "        min_sample_split = 1.0\n",
    "        for k in range (10):\n",
    "            f1s.append([decisionTree(trainX,trainY,testX,testY,i,min_sample_split,max_features),i,min_sample_split,max_features])\n",
    "            min_sample_split *= 0.5\n",
    "        max_features -= 0.05\n",
    "f1s.sort()\n",
    "print('the optimal number of leafs is '+str(f1s[len(f1s)-1][1])+', min sample split is:'\n",
    "      + str(f1s[len(f1s)-1][2]) +', max features is :'+str(f1s[len(f1s)-1][3])+', it achieves a F1 score of '+ str(f1s[len(f1s)-1][0]))"
   ]
  },
  {
   "cell_type": "markdown",
   "metadata": {},
   "source": [
    "Applying the optimal hyperparameters learnt to the test set."
   ]
  },
  {
   "cell_type": "code",
   "execution_count": 97,
   "metadata": {},
   "outputs": [
    {
     "name": "stdout",
     "output_type": "stream",
     "text": [
      "The F1 score of decision Tree for yelp train set frequency bag of word representation is 0.518072088109\n",
      "The F1 score of decision Tree for yelp valid set frequency bag of word representation is 0.37935513571\n",
      "The F1 score of decision Tree for yelp test set frequency bag of word representation is 0.383476156155\n"
     ]
    }
   ],
   "source": [
    "f1Test = decisionTree(trainX,trainY,trainX.toarray(),trainY,200,1.0,1.0)\n",
    "print('The F1 score of decision Tree for yelp train set frequency bag of word representation is '+ str(f1Test))\n",
    "f1Test = decisionTree(trainX,trainY,testX,testY,200,1.0,1.0)\n",
    "print('The F1 score of decision Tree for yelp valid set frequency bag of word representation is '+ str(f1Test))\n",
    "f1Test = decisionTree(trainX,trainY,testXFinal,testYFinal,200,1.0,1.0)\n",
    "print('The F1 score of decision Tree for yelp test set frequency bag of word representation is '+ str(f1Test))"
   ]
  },
  {
   "cell_type": "markdown",
   "metadata": {},
   "source": [
    "The function below uses the Bernoulli Native Bayes classifier to classify the data, there is one hyper parameter to be adjusted, which is Additive (Laplace/Lidstone) smoothing parameter, aplha."
   ]
  },
  {
   "cell_type": "code",
   "execution_count": 11,
   "metadata": {},
   "outputs": [],
   "source": [
    "def BernoulliNativeBayes(trainingX,trainingY,testingX,testingY,a):\n",
    "    clf = BernoulliNB(alpha=a)\n",
    "    clf.fit(trainingX, trainingY)\n",
    "    preditY = []\n",
    "    hit = 0\n",
    "    for i in range(len(testingX)):\n",
    "        ans = clf.predict([testingX[i]])\n",
    "        if ans == testingY[i]:\n",
    "            hit +=1\n",
    "        preditY.append(ans)\n",
    "    f1 = metrics.f1_score(testingY, preditY, average='weighted')\n",
    "    # print('F1 Score = ' + str(f1))\n",
    "    return f1"
   ]
  },
  {
   "cell_type": "markdown",
   "metadata": {},
   "source": [
    "The optimal alpha will be find in the range from 0.7 to 0.0000225."
   ]
  },
  {
   "cell_type": "code",
   "execution_count": 47,
   "metadata": {},
   "outputs": [
    {
     "data": {
      "image/png": "[encoded data removed]",
      "text/plain": [
       "<matplotlib.figure.Figure at 0x24484700048>"
      ]
     },
     "metadata": {},
     "output_type": "display_data"
    },
    {
     "name": "stdout",
     "output_type": "stream",
     "text": [
      "the optimal alpha is 0.009688901040699992, it achieves a F1 score of 0.4028932560404406\n"
     ]
    }
   ],
   "source": [
    "f1s = []\n",
    "a = 1\n",
    "for i in range(0,30):\n",
    "\n",
    "    a *=0.7\n",
    "    # print('alpha = '+str(a))\n",
    "    f1s.append([BernoulliNativeBayes(trainX, trainY, testX, testY, a), a])\n",
    "f1s.sort()\n",
    "plotHyperparameterTrainingProgress(f1s)\n",
    "print('the optimal alpha is ' + str(f1s[len(f1s)-1][1]) + ', it achieves a F1 score of ' + str(f1s[len(f1s)-1][0]))"
   ]
  },
  {
   "cell_type": "markdown",
   "metadata": {},
   "source": [
    "Applying the optimal hyperparameters learnt to the test set."
   ]
  },
  {
   "cell_type": "code",
   "execution_count": 90,
   "metadata": {},
   "outputs": [
    {
     "name": "stdout",
     "output_type": "stream",
     "text": [
      "The F1 score of Native Bayes for yelp train set binary bag of word representation is 0.740081113991\n",
      "The F1 score of Native Bayes for yelp valid set binary bag of word representation is 0.40289325604\n",
      "The F1 score of Native Bayes for yelp test set binary bag of word representation is 0.43113819783\n"
     ]
    }
   ],
   "source": [
    "f1Test = BernoulliNativeBayes(trainX, trainY,trainX.toarray(), trainY, 0.009688901040699992)\n",
    "print('The F1 score of Native Bayes for yelp train set binary bag of word representation is '+ str(f1Test))\n",
    "f1Test = BernoulliNativeBayes(trainX, trainY, testX, testY, 0.009688901040699992)\n",
    "print('The F1 score of Native Bayes for yelp valid set binary bag of word representation is '+ str(f1Test))\n",
    "f1Test = BernoulliNativeBayes(trainX, trainY, testXFinal, testYFinal, 0.009688901040699992)\n",
    "print('The F1 score of Native Bayes for yelp test set binary bag of word representation is '+ str(f1Test))"
   ]
  },
  {
   "cell_type": "markdown",
   "metadata": {},
   "source": [
    "The function below uses the linear SVM to classify the data, there are two hyperparameters to be considered, C is the penalty parameter of the error term, and dual is to select to either to solve the dual or primal optimization problem."
   ]
  },
  {
   "cell_type": "code",
   "execution_count": 12,
   "metadata": {},
   "outputs": [],
   "source": [
    "def LinearSVM(trainingX, trainingY, testingX, testingY, C,dual):\n",
    "    clf = LinearSVC(C=C,dual=dual)\n",
    "    clf.fit(trainingX, trainingY)\n",
    "    preditY = []\n",
    "    for i in range(len(testingX)):\n",
    "        ans = clf.predict([testingX[i]])\n",
    "        preditY.append(ans)\n",
    "    f1Score = metrics.f1_score(testingY, preditY, average='weighted')\n",
    "    return f1Score"
   ]
  },
  {
   "cell_type": "markdown",
   "metadata": {},
   "source": [
    "Finding the best combination of the two hyperparameters. C is considered from 7 to  0.000225, dual is either True or False"
   ]
  },
  {
   "cell_type": "code",
   "execution_count": 61,
   "metadata": {},
   "outputs": [
    {
     "data": {
      "image/png": "[encoded data removed]",
      "text/plain": [
       "<matplotlib.figure.Figure at 0x24481d3c1d0>"
      ]
     },
     "metadata": {},
     "output_type": "display_data"
    },
    {
     "name": "stdout",
     "output_type": "stream",
     "text": [
      "the optimal C is 0.007979226629761192, dual= True, it achieves a F1 score of 0.4967606230498824\n"
     ]
    }
   ],
   "source": [
    "C = 10\n",
    "f1s=[]\n",
    "\n",
    "for i in range(0, 30):\n",
    "    C  *= 0.7\n",
    "    # print('alpha = '+str(a))\n",
    "    f1s.append([LinearSVM(trainX, trainY, testX, testY, C,False), C,'False'])\n",
    "    f1s.append([LinearSVM(trainX, trainY, testX, testY, C,True), C,'True'])\n",
    "    \n",
    "f1s.sort()\n",
    "\n",
    "plotHyperparameterTrainingProgress(np.array(f1s)[:,:-1])\n",
    "print('the optimal C is ' + str(f1s[len(f1s) - 1][1]) +', dual= '+str(f1s[len(f1s) - 1][2])+', it achieves a F1 score of ' + str(f1s[len(f1s) - 1][0]))"
   ]
  },
  {
   "cell_type": "markdown",
   "metadata": {},
   "source": [
    "Applying the optimal hyperparameters learnt to the test set."
   ]
  },
  {
   "cell_type": "code",
   "execution_count": 91,
   "metadata": {},
   "outputs": [
    {
     "name": "stdout",
     "output_type": "stream",
     "text": [
      "The F1 score of LinearSVM for yelp train set binary bag of word representation is 0.833265595284\n",
      "The F1 score of LinearSVM for yelp valid set binary bag of word representation is 0.49676062305\n",
      "The F1 score of LinearSVM for yelp test set binary bag of word representation is 0.501717243121\n"
     ]
    }
   ],
   "source": [
    "f1Test = LinearSVM(trainX, trainY, trainX.toarray(), trainY, 0.007979226629761192, True)\n",
    "print('The F1 score of LinearSVM for yelp train set binary bag of word representation is '+ str(f1Test))\n",
    "f1Test = LinearSVM(trainX, trainY, testX, testY, 0.007979226629761192, True)\n",
    "print('The F1 score of LinearSVM for yelp valid set binary bag of word representation is '+ str(f1Test))\n",
    "f1Test = LinearSVM(trainX, trainY, testXFinal, testYFinal, 0.007979226629761192, True)\n",
    "print('The F1 score of LinearSVM for yelp test set binary bag of word representation is '+ str(f1Test))"
   ]
  },
  {
   "cell_type": "markdown",
   "metadata": {},
   "source": [
    "#### Comment about the performance of different classifers."
   ]
  },
  {
   "cell_type": "markdown",
   "metadata": {},
   "source": [
    "For the binary bag of word representation bag of word representation of the yelp set, Linear SVM Classifier gives the best result in all three datasets (train, valid, test), and decision gives the worst result, however without setting the hyperparameters to make the decision tree classifier more general, the training F1 score is 1. Generally, all three classifier produce result much better than the baseline."
   ]
  },
  {
   "cell_type": "markdown",
   "metadata": {},
   "source": [
    "### Question 3"
   ]
  },
  {
   "cell_type": "markdown",
   "metadata": {},
   "source": [
    "Get the yelp train, validation and test data set ready in frequency bag of words representation, as well as the scores."
   ]
  },
  {
   "cell_type": "code",
   "execution_count": 13,
   "metadata": {},
   "outputs": [],
   "source": [
    "trainResult = readReviews('outputdatasets//yelp-train.txt')\n",
    "trainX = getFreqBagOfWord(trainResult[0])\n",
    "trainY = trainResult[1]\n",
    "testResult = readReviews('outputdatasets//yelp-valid.txt')\n",
    "testX = getFreqBagOfWord(testResult[0]).toarray()\n",
    "testY = testResult[1]\n",
    "testResultFinal = readReviews('outputdatasets//yelp-test.txt')\n",
    "testXFinal = getFreqBagOfWord(testResultFinal[0]).toarray()\n",
    "testYFinal = testResultFinal[1]"
   ]
  },
  {
   "cell_type": "markdown",
   "metadata": {},
   "source": [
    "A grid search has been done to find the best combinations of the three hyperparameters. For the maximum number of leaf feature I considered the range from 300 to 100, the maximum feature parameter I considered from .95 to 0.5 the min sample split I considered from 0.005 to 0.0000097"
   ]
  },
  {
   "cell_type": "code",
   "execution_count": 13,
   "metadata": {},
   "outputs": [
    {
     "name": "stdout",
     "output_type": "stream",
     "text": [
      "the optimal number of leafs is 110, min sample split is:0.01, max features is :1.0, it achieves a F1 score of 0.373826114467\n"
     ]
    }
   ],
   "source": [
    "f1s = []\n",
    "for i in range (300,100,-10):\n",
    "    max_features = 1.0\n",
    "    for j in range(10):\n",
    "        min_sample_split =0.01\n",
    "        for k in range (10):\n",
    "            f1s.append([decisionTree(trainX,trainY,testX,testY,i,min_sample_split,max_features),i,min_sample_split,max_features])\n",
    "            min_sample_split *= 0.5\n",
    "        max_features -= 0.05\n",
    "f1s.sort()\n",
    "print('the optimal number of leafs is '+str(f1s[len(f1s)-1][1])+', min sample split is:'\n",
    "      + str(f1s[len(f1s)-1][2]) +', max features is :'+str(f1s[len(f1s)-1][3])+', it achieves a F1 score of '+ str(f1s[len(f1s)-1][0]))"
   ]
  },
  {
   "cell_type": "markdown",
   "metadata": {},
   "source": [
    "Applying the optimal hyperparameters learnt to the test set."
   ]
  },
  {
   "cell_type": "code",
   "execution_count": 19,
   "metadata": {},
   "outputs": [
    {
     "name": "stdout",
     "output_type": "stream",
     "text": [
      "The F1 score of decision Tree for yelp train set frequency bag of word representation is 0.4834558775156819\n",
      "The F1 score of decision Tree for yelp valid set frequency bag of word representation is 0.37382611446735314\n",
      "The F1 score of decision Tree for yelp test set frequency bag of word representation is 0.38287396168355314\n"
     ]
    }
   ],
   "source": [
    "f1Test = decisionTree(trainX,trainY,trainX.toarray(),trainY,110,0.0025,1.0)\n",
    "print('The F1 score of decision Tree for yelp train set frequency bag of word representation is '+ str(f1Test))\n",
    "f1Test = decisionTree(trainX,trainY,testX,testY,110,0.0025,1.0)\n",
    "print('The F1 score of decision Tree for yelp valid set frequency bag of word representation is '+ str(f1Test))\n",
    "f1Test = decisionTree(trainX,trainY,testXFinal,testYFinal,110,0.0025,1.0)\n",
    "print('The F1 score of decision Tree for yelp test set frequency bag of word representation is '+ str(f1Test))"
   ]
  },
  {
   "cell_type": "markdown",
   "metadata": {},
   "source": [
    "The function below uses the Gaussian Native Bayes classifier to classify the data, there is no hyper parameter to be adjusted."
   ]
  },
  {
   "cell_type": "code",
   "execution_count": 29,
   "metadata": {},
   "outputs": [],
   "source": [
    "def NativeBayesGaussian(trainingX, trainingY, testingX, testingY):\n",
    "    clf = GaussianNB()\n",
    "    clf.fit(trainingX.toarray(), trainingY)\n",
    "    preditY = []\n",
    "    for i in range(len(testingX)):\n",
    "        ans = clf.predict([testingX[i]])\n",
    "        preditY.append(ans)\n",
    "    f1 = metrics.f1_score(testingY, preditY, average='weighted')\n",
    "    return f1"
   ]
  },
  {
   "cell_type": "code",
   "execution_count": 94,
   "metadata": {},
   "outputs": [
    {
     "name": "stdout",
     "output_type": "stream",
     "text": [
      "Using Gaussian Native Bayes on yelp train set, F1 score: 0.807218481283\n",
      "Using Gaussian Native Bayes on yelp valid set, F1 score: 0.299617796185\n",
      "Using Gaussian Native Bayes on yelp test set, F1 score: 0.312702436953\n"
     ]
    }
   ],
   "source": [
    "print('Using Gaussian Native Bayes on yelp train set, F1 score: ' +str(NativeBayesGaussian(trainX, trainY, trainX.toarray(), trainY)))\n",
    "print('Using Gaussian Native Bayes on yelp valid set, F1 score: ' +str(NativeBayesGaussian(trainX, trainY, testX, testY)))\n",
    "print('Using Gaussian Native Bayes on yelp test set, F1 score: ' +str(NativeBayesGaussian(trainX, trainY, testXFinal, testYFinal)))"
   ]
  },
  {
   "cell_type": "markdown",
   "metadata": {},
   "source": [
    "Linear SVM classifier have been applied to the yelp freq bag of word, the code below is finding the best combination of the two hyperparameters, C is considered from 350 to 0.55, dual is either Ture or False."
   ]
  },
  {
   "cell_type": "code",
   "execution_count": 15,
   "metadata": {
    "scrolled": true
   },
   "outputs": [
    {
     "name": "stdout",
     "output_type": "stream",
     "text": [
      "the optimal C is 58.82449999999997, dual= True, it achieves a F1 score of 0.4880968952693054\n"
     ]
    },
    {
     "data": {
      "image/png": "[encoded data removed]",
      "text/plain": [
       "<matplotlib.figure.Figure at 0x1a18d035ba8>"
      ]
     },
     "metadata": {},
     "output_type": "display_data"
    }
   ],
   "source": [
    "C = 500\n",
    "f1s=[]\n",
    "for i in range(0, 30):\n",
    "    C  *= 0.7\n",
    "    # print('alpha = '+str(a))\n",
    "    f1s.append([LinearSVM(trainX, trainY, testX, testY, C,False), C,'False'])\n",
    "    f1s.append([LinearSVM(trainX, trainY, testX, testY, C,True), C,'True'])\n",
    "    \n",
    "f1s.sort()\n",
    "print('the optimal C is ' + str(f1s[len(f1s) - 1][1]) +', dual= '+str(f1s[len(f1s) - 1][2])+', it achieves a F1 score of ' + str(f1s[len(f1s) - 1][0]))\n",
    "plotHyperparameterTrainingProgress(np.array(f1s)[:,:-1])"
   ]
  },
  {
   "cell_type": "markdown",
   "metadata": {},
   "source": [
    "Applying the optimal hyperparameters learnt to the test set."
   ]
  },
  {
   "cell_type": "code",
   "execution_count": 95,
   "metadata": {},
   "outputs": [
    {
     "name": "stdout",
     "output_type": "stream",
     "text": [
      "The F1 score of LinearSVM for yelp train set frequency bag of word representation is 0.829556100128\n",
      "The F1 score of LinearSVM for yelp valid set frequency bag of word representation is 0.486785851558\n",
      "The F1 score of LinearSVM for yelp test set frequency bag of word representation is 0.499507757732\n"
     ]
    }
   ],
   "source": [
    "f1Test = LinearSVM(trainX, trainY, trainX.toarray(), trainY,  58.82449999999997 , True)\n",
    "print('The F1 score of LinearSVM for yelp train set frequency bag of word representation is '+ str(f1Test))\n",
    "f1Test = LinearSVM(trainX, trainY, testX, testY,  58.82449999999997 , True)\n",
    "print('The F1 score of LinearSVM for yelp valid set frequency bag of word representation is '+ str(f1Test))\n",
    "f1Test = LinearSVM(trainX, trainY, testXFinal, testYFinal,  58.82449999999997 , True)\n",
    "print('The F1 score of LinearSVM for yelp test set frequency bag of word representation is '+ str(f1Test))"
   ]
  },
  {
   "cell_type": "markdown",
   "metadata": {},
   "source": [
    "#### Comment on the result and compare with last question"
   ]
  },
  {
   "cell_type": "markdown",
   "metadata": {},
   "source": [
    "Linear SVM still perform the best, there is a slight drop in performance in all three classifiers (around 1 percent), I think for language processing the word appears most often are the words that has little meaning like \"the\", \"a\", \"I\". And in the frequency bag of word representation they weighted a lot, althought the classifiers should be able to tell those words have little effect on the result through training, they still affected the result. Also the order of word matters."
   ]
  },
  {
   "cell_type": "markdown",
   "metadata": {},
   "source": [
    "### Question4"
   ]
  },
  {
   "cell_type": "markdown",
   "metadata": {},
   "source": [
    "Get the IMDB train, validation and test data set ready in binary bag of words representation, as well as the scores."
   ]
  },
  {
   "cell_type": "code",
   "execution_count": 16,
   "metadata": {},
   "outputs": [],
   "source": [
    "trainResult = readReviews('outputdatasets//IMDB-train.txt')\n",
    "trainX = getBinaryBagOfWord(trainResult[0])\n",
    "trainY = trainResult[1]\n",
    "testResult = readReviews('outputdatasets//IMDB-valid.txt')\n",
    "testX = getBinaryBagOfWord(testResult[0]).toarray()\n",
    "testY = testResult[1]\n",
    "testResultFinal = readReviews('outputdatasets//IMDB-test.txt')\n",
    "testXFinal = getBinaryBagOfWord(testResultFinal[0]).toarray()\n",
    "testYFinal = testResultFinal[1]"
   ]
  },
  {
   "cell_type": "markdown",
   "metadata": {},
   "source": [
    "set the baseline using the random classifier and the majority classifier"
   ]
  },
  {
   "cell_type": "code",
   "execution_count": 42,
   "metadata": {},
   "outputs": [
    {
     "name": "stdout",
     "output_type": "stream",
     "text": [
      "Uniform Random F1 Score= 0.497523170342\n"
     ]
    }
   ],
   "source": [
    "randomClassifier(trainX,trainY,testXFinal,testYFinal)"
   ]
  },
  {
   "cell_type": "code",
   "execution_count": 23,
   "metadata": {},
   "outputs": [],
   "source": [
    "def decisionTreeBinaryF1(trainingX, trainingY, testingX, testingY, maxLeaf,min_samples_split, max_features):\n",
    "    clf = DecisionTreeClassifier(criterion='entropy', max_leaf_nodes=maxLeaf, min_samples_split = min_samples_split)\n",
    "    clf.fit(trainingX, trainingY)\n",
    "    preditY = []\n",
    "    for i in range(len(testingX)):\n",
    "        ans = clf.predict([testingX[i]])\n",
    "        preditY.append(ans)\n",
    "    f1Score = metrics.f1_score(testingY, preditY)\n",
    "    return f1Score"
   ]
  },
  {
   "cell_type": "markdown",
   "metadata": {},
   "source": [
    "A grid search has been done to find the best combinations of the three hyperparameters. For the maximum number of leaf feature I considered the range from 300 to 100, the maximum feature parameter I considered from .95 to 0.5 the min sample split I considered from 0.5 to 0.0000097"
   ]
  },
  {
   "cell_type": "code",
   "execution_count": 24,
   "metadata": {
    "scrolled": true
   },
   "outputs": [
    {
     "name": "stdout",
     "output_type": "stream",
     "text": [
      "the optimal number of leafs is 120, min sample split is:0.5, max features is :1.0, it achieves a F1 score of 0.749424405219\n"
     ]
    }
   ],
   "source": [
    "f1s = []\n",
    "for i in range (300,100,-10):\n",
    "    max_features = 1.0\n",
    "    for j in range(10):\n",
    "        min_sample_split =1\n",
    "        for k in range (10):\n",
    "            f1s.append([decisionTreeBinaryF1(trainX,trainY,testX,testY,i,min_sample_split,max_features),i,min_sample_split,max_features])\n",
    "            min_sample_split *= 0.5\n",
    "        max_features -= 0.05\n",
    "f1s.sort()\n",
    "print('the optimal number of leafs is '+str(f1s[len(f1s)-1][1])+', min sample split is:'\n",
    "      + str(f1s[len(f1s)-1][2]) +', max features is :'+str(f1s[len(f1s)-1][3])+', it achieves a F1 score of '+ str(f1s[len(f1s)-1][0]))"
   ]
  },
  {
   "cell_type": "markdown",
   "metadata": {},
   "source": [
    "Applying the optimal hyperparameters learnt to the test set."
   ]
  },
  {
   "cell_type": "code",
   "execution_count": 25,
   "metadata": {},
   "outputs": [
    {
     "name": "stdout",
     "output_type": "stream",
     "text": [
      "The F1 score of decision Tree for IMDB train set binary bag of word representation is 0.7335044197319647\n",
      "The F1 score of decision Tree for IMDB valid set binary bag of word representation is 0.7293072520714102\n",
      "The F1 score of decision Tree for IMDB test set binary bag of word representation is 0.735850344780501\n"
     ]
    }
   ],
   "source": [
    "f1Test = decisionTreeBinaryF1(trainX,trainY,trainX.toarray(),trainY,120,0.5,1.0)\n",
    "print('The F1 score of decision Tree for IMDB train set binary bag of word representation is '+ str(f1Test))\n",
    "f1Test = decisionTreeBinaryF1(trainX,trainY,testX, testY,120,0.5,1.0)\n",
    "print('The F1 score of decision Tree for IMDB valid set binary bag of word representation is '+ str(f1Test))\n",
    "f1Test = decisionTreeBinaryf1s = []\n",
    "for i in range (300,100,-10):\n",
    "    max_features = 1.0\n",
    "    for j in range(10):\n",
    "        max_features -= 0.05\n",
    "        min_sample_split =1.0\n",
    "        for k in range (10):\n",
    "            f1s.append([decisionTreeBinaryF1(trainX,trainY,testX,testY,i,min_sample_split,max_features),i,min_sample_split,max_features])\n",
    "            min_sample_split *= 0.5\n",
    "f1s.sort()\n",
    "print('the optimal number of leafs is '+str(f1s[len(f1s)-1][1])+', min sample split is:'\n",
    "      + str(f1s[len(f1s)-1][2]) +', max features is :'+str(f1s[len(f1s)-1][3])+', it achieves a F1 score of '+ str(f1s[len(f1s)-1][0]))F1(trainX,trainY,testXFinal,testYFinal,120,0.5,1.0)\n",
    "print('The F1 score of decision Tree for IMDB test set binary bag of word representation is '+ str(f1Test))"
   ]
  },
  {
   "cell_type": "markdown",
   "metadata": {},
   "source": [
    "The function below uses the Bernoulli Native Bayes classifier to classify the data, there is one hyper parameter to be adjusted, which is Additive (Laplace/Lidstone) smoothing parameter, aplha. Alpha will be find in the range of 0.7 to 0.0000225."
   ]
  },
  {
   "cell_type": "code",
   "execution_count": 81,
   "metadata": {},
   "outputs": [
    {
     "data": {
      "image/png": "[encoded data removed]",
      "text/plain": [
       "<matplotlib.figure.Figure at 0x2d06129eba8>"
      ]
     },
     "metadata": {},
     "output_type": "display_data"
    },
    {
     "name": "stdout",
     "output_type": "stream",
     "text": [
      "the optimal alpha is 0.04035360699999998, it achieves a F1 score of 0.8467741048237153\n"
     ]
    }
   ],
   "source": [
    "f1s = []\n",
    "a = 1\n",
    "for i in range(0,30):\n",
    "\n",
    "    a *=0.7\n",
    "    # print('alpha = '+str(a))\n",
    "    f1s.append([BernoulliNativeBayes(trainX, trainY, testX, testY, a), a])\n",
    "f1s.sort()\n",
    "plotHyperparameterTrainingProgress(f1s)\n",
    "print('the optimal alpha is ' + str(f1s[len(f1s)-1][1]) + ', it achieves a F1 score of ' + str(f1s[len(f1s)-1][0]))"
   ]
  },
  {
   "cell_type": "markdown",
   "metadata": {},
   "source": [
    "Applying the optimal hyperparameters learnt to the test set."
   ]
  },
  {
   "cell_type": "code",
   "execution_count": 78,
   "metadata": {},
   "outputs": [
    {
     "name": "stdout",
     "output_type": "stream",
     "text": [
      "The F1 score of Bernoulli Native Bayes for IMDB train set binary bag of word representation is 0.871388945268\n",
      "The F1 score of Bernoulli Native Bayes for IMDB valid set binary bag of word representation is 0.844782168186\n",
      "The F1 score of Bernoulli Native Bayes for IMDB test set binary bag of word representation is 0.828050189863\n"
     ]
    }
   ],
   "source": [
    "f1Test = BernoulliNativeBayes(trainX,trainY,trainX.toarray(),trainY,0.04035360699999998)\n",
    "print('The F1 score of Bernoulli Native Bayes for IMDB train set binary bag of word representation is '+ str(f1Test))\n",
    "f1Test = BernoulliNativeBayes(trainX,trainY,testX,testY,0.04035360699999998)\n",
    "print('The F1 score of Bernoulli Native Bayes for IMDB valid set binary bag of word representation is '+ str(f1Test))\n",
    "f1Test = BernoulliNativeBayes(trainX,trainY,testXFinal,testYFinal,0.04035360699999998)\n",
    "print('The F1 score of Bernoulli Native Bayes for IMDB test set binary bag of word representation is '+ str(f1Test))"
   ]
  },
  {
   "cell_type": "markdown",
   "metadata": {},
   "source": [
    "The penalty parameter of the error term C is found below, dual parameter is not considered because according to the documents, dual = False is prefered when the number of samples is larger than the number of features."
   ]
  },
  {
   "cell_type": "code",
   "execution_count": 17,
   "metadata": {
    "scrolled": true
   },
   "outputs": [
    {
     "data": {
      "image/png": "[encoded data removed]",
      "text/plain": [
       "<matplotlib.figure.Figure at 0x1a18f9c8f28>"
      ]
     },
     "metadata": {},
     "output_type": "display_data"
    },
    {
     "name": "stdout",
     "output_type": "stream",
     "text": [
      "the optimal C is 0.005585458640832834, it achieves a F1 score of 0.8821900285640178\n"
     ]
    }
   ],
   "source": [
    "C = 10\n",
    "f1s=[]\n",
    "for i in range(0, 30):\n",
    "    C  *= 0.7\n",
    "    f1s.append([LinearSVM(trainX, trainY, testX, testY, C,False), C])\n",
    "f1s.sort()\n",
    "plotHyperparameterTrainingProgress(f1s)\n",
    "print('the optimal C is ' + str(f1s[len(f1s) - 1][1]) + ', it achieves a F1 score of ' + str(f1s[len(f1s) - 1][0]))"
   ]
  },
  {
   "cell_type": "markdown",
   "metadata": {},
   "source": [
    "Applying the optimal hyperparameters learnt to the test set."
   ]
  },
  {
   "cell_type": "code",
   "execution_count": 80,
   "metadata": {},
   "outputs": [
    {
     "name": "stdout",
     "output_type": "stream",
     "text": [
      "The F1 score of LinearSVM for IMDB train set frequency bag of word representation is 0.953360313143\n",
      "The F1 score of LinearSVM for IMDB valid set frequency bag of word representation is 0.883273880301\n",
      "The F1 score of LinearSVM for IMDB test set frequency bag of word representation is 0.877204130262\n"
     ]
    }
   ],
   "source": [
    "f1Test = LinearSVM(trainX, trainY, trainX.toarray(), trainY, 0.005585458640832834,False)\n",
    "print('The F1 score of LinearSVM for IMDB train set frequency bag of word representation is '+ str(f1Test))\n",
    "f1Test = LinearSVM(trainX, trainY, testX, testY, 0.005585458640832834,False)\n",
    "print('The F1 score of LinearSVM for IMDB valid set frequency bag of word representation is '+ str(f1Test))\n",
    "f1Test = LinearSVM(trainX, trainY, testXFinal, testYFinal, 0.005585458640832834,False)\n",
    "print('The F1 score of LinearSVM for IMDB test set frequency bag of word representation is '+ str(f1Test))"
   ]
  },
  {
   "cell_type": "markdown",
   "metadata": {},
   "source": [
    "### comments"
   ]
  },
  {
   "cell_type": "markdown",
   "metadata": {},
   "source": [
    "For the IMDB binary bag of word dataset, the linear SVM still perform the best, and the decision tree still perform the worst, all three classifiers are still performing much better than the base line"
   ]
  },
  {
   "cell_type": "markdown",
   "metadata": {},
   "source": [
    "### In the section below, optimal hyperparameters will be found for the IMDB data sets in Frequency bag of word representation."
   ]
  },
  {
   "cell_type": "markdown",
   "metadata": {},
   "source": [
    "Get the IMDB train, validation and test data set ready in frequency bag of words representation, as well as the scores."
   ]
  },
  {
   "cell_type": "code",
   "execution_count": 34,
   "metadata": {},
   "outputs": [],
   "source": [
    "trainResult = readReviews('outputdatasets//IMDB-train.txt')\n",
    "trainX = getFreqBagOfWord(trainResult[0])\n",
    "trainY = trainResult[1]\n",
    "testResult = readReviews('outputdatasets//IMDB-valid.txt')\n",
    "testX = getFreqBagOfWord(testResult[0]).toarray()\n",
    "testY = testResult[1]\n",
    "testResultFinal = readReviews('outputdatasets//IMDB-test.txt')\n",
    "testXFinal = getFreqBagOfWord(testResultFinal[0]).toarray()\n",
    "testYFinal = testResultFinal[1]"
   ]
  },
  {
   "cell_type": "markdown",
   "metadata": {},
   "source": [
    "A grid search has been done to find the best combinations of the three hyperparameters. For the maximum number of leaf feature I considered the range from 300 to 100, the maximum feature parameter I considered from .95 to 0.5 the min sample split I considered from 0.5 to 0.0000097"
   ]
  },
  {
   "cell_type": "code",
   "execution_count": 25,
   "metadata": {},
   "outputs": [
    {
     "name": "stdout",
     "output_type": "stream",
     "text": [
      "the optimal number of leafs is 300, min sample split is:0.0625, max features is :0.95, it achieves a F1 score of 0.7467424316645439\n"
     ]
    }
   ],
   "source": [
    "f1s = []\n",
    "for i in range (300,100,-10):\n",
    "    max_features = 1.0\n",
    "    for j in range(10):\n",
    "        max_features -= 0.05\n",
    "        min_sample_split =1.0\n",
    "        for k in range (10):\n",
    "            f1s.append([decisionTreeBinaryF1(trainX,trainY,testX,testY,i,min_sample_split,max_features),i,min_sample_split,max_features])\n",
    "            min_sample_split *= 0.5\n",
    "f1s.sort()\n",
    "print('the optimal number of leafs is '+str(f1s[len(f1s)-1][1])+', min sample split is:'\n",
    "      + str(f1s[len(f1s)-1][2]) +', max features is :'+str(f1s[len(f1s)-1][3])+', it achieves a F1 score of '+ str(f1s[len(f1s)-1][0]))"
   ]
  },
  {
   "cell_type": "markdown",
   "metadata": {},
   "source": [
    "Applying the optimal hyperparameters learnt to the test set."
   ]
  },
  {
   "cell_type": "code",
   "execution_count": 35,
   "metadata": {},
   "outputs": [
    {
     "name": "stdout",
     "output_type": "stream",
     "text": [
      "The F1 score of decision Tree for IMDB train set Frequency bag of word representation is 0.7647251523291618\n",
      "The F1 score of decision Tree for IMDB valid set Frequency bag of word representation is 0.7467424316645439\n",
      "The F1 score of decision Tree for IMDB test set Frequency bag of word representation is 0.75\n"
     ]
    }
   ],
   "source": [
    "f1Test = decisionTreeBinaryF1(trainX,trainY,trainX.toarray(),trainY,300,0.0625,0.95)\n",
    "print('The F1 score of decision Tree for IMDB train set Frequency bag of word representation is '+ str(f1Test))\n",
    "f1Test = decisionTreeBinaryF1(trainX,trainY,testX,testY,300,0.0625,0.95)\n",
    "print('The F1 score of decision Tree for IMDB valid set Frequency bag of word representation is '+ str(f1Test))\n",
    "f1Test = decisionTreeBinaryF1(trainX,trainY,testXFinal,testYFinal,300,0.0625,0.95)\n",
    "print('The F1 score of decision Tree for IMDB test set Frequency bag of word representation is '+ str(f1Test))"
   ]
  },
  {
   "cell_type": "markdown",
   "metadata": {},
   "source": [
    "For Gaussian Native Bayes Classifier there is no hyperparameter to be adjusted."
   ]
  },
  {
   "cell_type": "code",
   "execution_count": 86,
   "metadata": {},
   "outputs": [
    {
     "name": "stdout",
     "output_type": "stream",
     "text": [
      "Using Gaussian Native Bayes on IMDB train set, F1 score: 0.847282881077\n",
      "Using Gaussian Native Bayes on IMDB valid set, F1 score: 0.736549363568\n",
      "Using Gaussian Native Bayes on IMDB test set, F1 score: 0.638794006467\n"
     ]
    }
   ],
   "source": [
    "print('Using Gaussian Native Bayes on IMDB train set, F1 score: ' +str(NativeBayesGaussian(trainX, trainY, trainX.toarray(), trainY)))\n",
    "print('Using Gaussian Native Bayes on IMDB valid set, F1 score: ' +str(NativeBayesGaussian(trainX, trainY, testX, testY)))\n",
    "print('Using Gaussian Native Bayes on IMDB test set, F1 score: ' +str(NativeBayesGaussian(trainX, trainY, testXFinal, testYFinal)))"
   ]
  },
  {
   "cell_type": "markdown",
   "metadata": {},
   "source": [
    "The penalty parameter of the error term C is found below, dual parameter is not considered because according to the documents, dual = False is prefered when the number of samples is larger than the number of features."
   ]
  },
  {
   "cell_type": "code",
   "execution_count": 88,
   "metadata": {},
   "outputs": [
    {
     "data": {
      "image/png": "[encoded data removed]",
      "text/plain": [
       "<matplotlib.figure.Figure at 0x2d0613feb38>"
      ]
     },
     "metadata": {},
     "output_type": "display_data"
    },
    {
     "name": "stdout",
     "output_type": "stream",
     "text": [
      "the optimal C is 168.06999999999994, it achieves a F1 score of 0.8842964999691241\n"
     ]
    }
   ],
   "source": [
    "C = 1000\n",
    "f1s=[]\n",
    "for i in range(0, 30):\n",
    "    C *=0.7\n",
    "    # print('alpha = '+str(a))\n",
    "    f1s.append([LinearSVM(trainX, trainY, testX, testY, C,False), C])\n",
    "f1s.sort()\n",
    "plotHyperparameterTrainingProgress(f1s)\n",
    "print('the optimal C is ' + str(f1s[len(f1s) - 1][1]) + ', it achieves a F1 score of ' + str(f1s[len(f1s) - 1][0]))"
   ]
  },
  {
   "cell_type": "markdown",
   "metadata": {},
   "source": [
    "Applying the optimal hyperparameters learnt to the test set."
   ]
  },
  {
   "cell_type": "code",
   "execution_count": 101,
   "metadata": {},
   "outputs": [
    {
     "name": "stdout",
     "output_type": "stream",
     "text": [
      "The F1 score of LinearSVM for IMDB train set frequency bag of word representation is 0.960559626915\n",
      "The F1 score of LinearSVM for IMDB valid set frequency bag of word representation is 0.884733963202\n",
      "The F1 score of LinearSVM for IMDB test set frequency bag of word representation is 0.875855171034\n"
     ]
    }
   ],
   "source": [
    "f1Test = LinearSVM(trainX, trainY, trainX.toarray(), trainY, 168.06999999999994, False)\n",
    "print('The F1 score of LinearSVM for IMDB train set frequency bag of word representation is '+ str(f1Test))\n",
    "f1Test = LinearSVM(trainX, trainY, testX, testY, 168.06999999999994, False)\n",
    "print('The F1 score of LinearSVM for IMDB valid set frequency bag of word representation is '+ str(f1Test))\n",
    "f1Test = LinearSVM(trainX, trainY, testXFinal, testYFinal, 168.06999999999994, False)\n",
    "print('The F1 score of LinearSVM for IMDB test set frequency bag of word representation is '+ str(f1Test))"
   ]
  },
  {
   "cell_type": "markdown",
   "metadata": {},
   "source": [
    "The SVM classifier still performs the best and there are a slight drop in performance in all three classifiers when using frequency bag of words representation, the yelp and IMDB datasets follows the same pattern."
   ]
  }
 ],
 "metadata": {
  "hide_input": false,
  "kernelspec": {
   "display_name": "Python 3",
   "language": "python",
   "name": "python3"
  },
  "language_info": {
   "codemirror_mode": {
    "name": "ipython",
    "version": 3
   },
   "file_extension": ".py",
   "mimetype": "text/x-python",
   "name": "python",
   "nbconvert_exporter": "python",
   "pygments_lexer": "ipython3",
   "version": "3.6.4"
  }
 },
 "nbformat": 4,
 "nbformat_minor": 2
}
